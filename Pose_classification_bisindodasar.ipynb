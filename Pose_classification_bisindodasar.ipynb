{
  "nbformat": 4,
  "nbformat_minor": 0,
  "metadata": {
    "colab": {
      "name": "Pose classification bisindodasar.ipynb",
      "provenance": [],
      "collapsed_sections": [],
      "include_colab_link": true
    },
    "kernelspec": {
      "display_name": "Python 3",
      "language": "python",
      "name": "python3"
    },
    "language_info": {
      "codemirror_mode": {
        "name": "ipython",
        "version": 3
      },
      "file_extension": ".py",
      "mimetype": "text/x-python",
      "name": "python",
      "nbconvert_exporter": "python",
      "pygments_lexer": "ipython3",
      "version": "3.8.3"
    }
  },
  "cells": [
    {
      "cell_type": "markdown",
      "metadata": {
        "id": "view-in-github",
        "colab_type": "text"
      },
      "source": [
        "<a href=\"https://colab.research.google.com/github/kungfumas/aplikasi-deep-learning/blob/master/Pose_classification_bisindodasar.ipynb\" target=\"_parent\"><img src=\"https://colab.research.google.com/assets/colab-badge.svg\" alt=\"Open In Colab\"/></a>"
      ]
    },
    {
      "cell_type": "markdown",
      "metadata": {
        "id": "LyGX4hRSHU1d"
      },
      "source": [
        "# Overview\n",
        "\n",
        "This Colab helps to create a training set for the k-NN classifier described in the MediaPipe [Pose Classification](https://google.github.io/mediapipe/solutions/pose_classification.html) soultion, export it to a CSV and then use it in the [ML Kit sample app](https://developers.google.com/ml-kit/vision/pose-detection/classifying-poses#4_integrate_with_the_ml_kit_quickstart_app)."
      ]
    },
    {
      "cell_type": "markdown",
      "metadata": {
        "id": "-DpCfLGxsdzg"
      },
      "source": [
        "# Step 0: Start Colab"
      ]
    },
    {
      "cell_type": "markdown",
      "metadata": {
        "id": "IKqTTP3XsekH"
      },
      "source": [
        "Connect the Colab to hosted Python3 runtime (check top-right corner) and then install required dependencies."
      ]
    },
    {
      "cell_type": "code",
      "metadata": {
        "id": "TpZrq2Ktsgdu",
        "outputId": "d19618d6-9207-4ea2-edbf-ec61428a5ad0",
        "colab": {
          "base_uri": "https://localhost:8080/",
          "height": 1000
        }
      },
      "source": [
        "!pip install numpy==1.19.3\n",
        "!pip install opencv-python==4.5.1.48\n",
        "!pip install tqdm==4.56.0\n",
        "\n",
        "!pip install mediapipe==0.8.3"
      ],
      "execution_count": 1,
      "outputs": [
        {
          "output_type": "stream",
          "name": "stdout",
          "text": [
            "Looking in indexes: https://pypi.org/simple, https://us-python.pkg.dev/colab-wheels/public/simple/\n",
            "Collecting numpy==1.19.3\n",
            "  Downloading numpy-1.19.3-cp37-cp37m-manylinux2010_x86_64.whl (14.9 MB)\n",
            "\u001b[K     |████████████████████████████████| 14.9 MB 15.3 MB/s \n",
            "\u001b[?25hInstalling collected packages: numpy\n",
            "  Attempting uninstall: numpy\n",
            "    Found existing installation: numpy 1.21.6\n",
            "    Uninstalling numpy-1.21.6:\n",
            "      Successfully uninstalled numpy-1.21.6\n",
            "\u001b[31mERROR: pip's dependency resolver does not currently take into account all the packages that are installed. This behaviour is the source of the following dependency conflicts.\n",
            "xarray-einstats 0.2.2 requires numpy>=1.21, but you have numpy 1.19.3 which is incompatible.\n",
            "tensorflow 2.8.2+zzzcolab20220527125636 requires numpy>=1.20, but you have numpy 1.19.3 which is incompatible.\n",
            "datascience 0.10.6 requires folium==0.2.1, but you have folium 0.8.3 which is incompatible.\n",
            "albumentations 0.1.12 requires imgaug<0.2.7,>=0.2.5, but you have imgaug 0.2.9 which is incompatible.\u001b[0m\n",
            "Successfully installed numpy-1.19.3\n"
          ]
        },
        {
          "output_type": "display_data",
          "data": {
            "application/vnd.colab-display-data+json": {
              "pip_warning": {
                "packages": [
                  "numpy"
                ]
              }
            }
          },
          "metadata": {}
        },
        {
          "output_type": "stream",
          "name": "stdout",
          "text": [
            "Looking in indexes: https://pypi.org/simple, https://us-python.pkg.dev/colab-wheels/public/simple/\n",
            "Collecting opencv-python==4.5.1.48\n",
            "  Downloading opencv_python-4.5.1.48-cp37-cp37m-manylinux2014_x86_64.whl (50.4 MB)\n",
            "\u001b[K     |████████████████████████████████| 50.4 MB 60 kB/s \n",
            "\u001b[?25hRequirement already satisfied: numpy>=1.14.5 in /usr/local/lib/python3.7/dist-packages (from opencv-python==4.5.1.48) (1.19.3)\n",
            "Installing collected packages: opencv-python\n",
            "  Attempting uninstall: opencv-python\n",
            "    Found existing installation: opencv-python 4.1.2.30\n",
            "    Uninstalling opencv-python-4.1.2.30:\n",
            "      Successfully uninstalled opencv-python-4.1.2.30\n",
            "\u001b[31mERROR: pip's dependency resolver does not currently take into account all the packages that are installed. This behaviour is the source of the following dependency conflicts.\n",
            "albumentations 0.1.12 requires imgaug<0.2.7,>=0.2.5, but you have imgaug 0.2.9 which is incompatible.\u001b[0m\n",
            "Successfully installed opencv-python-4.5.1.48\n",
            "Looking in indexes: https://pypi.org/simple, https://us-python.pkg.dev/colab-wheels/public/simple/\n",
            "Collecting tqdm==4.56.0\n",
            "  Downloading tqdm-4.56.0-py2.py3-none-any.whl (72 kB)\n",
            "\u001b[K     |████████████████████████████████| 72 kB 954 kB/s \n",
            "\u001b[?25hInstalling collected packages: tqdm\n",
            "  Attempting uninstall: tqdm\n",
            "    Found existing installation: tqdm 4.64.0\n",
            "    Uninstalling tqdm-4.64.0:\n",
            "      Successfully uninstalled tqdm-4.64.0\n",
            "Successfully installed tqdm-4.56.0\n",
            "Looking in indexes: https://pypi.org/simple, https://us-python.pkg.dev/colab-wheels/public/simple/\n",
            "Collecting mediapipe==0.8.3\n",
            "  Downloading mediapipe-0.8.3-cp37-cp37m-manylinux2014_x86_64.whl (67.0 MB)\n",
            "\u001b[K     |████████████████████████████████| 67.0 MB 56 kB/s \n",
            "\u001b[?25hRequirement already satisfied: attrs in /usr/local/lib/python3.7/dist-packages (from mediapipe==0.8.3) (21.4.0)\n",
            "Requirement already satisfied: numpy==1.19.3 in /usr/local/lib/python3.7/dist-packages (from mediapipe==0.8.3) (1.19.3)\n",
            "Requirement already satisfied: opencv-python in /usr/local/lib/python3.7/dist-packages (from mediapipe==0.8.3) (4.5.1.48)\n",
            "Collecting dataclasses\n",
            "  Downloading dataclasses-0.6-py3-none-any.whl (14 kB)\n",
            "Requirement already satisfied: six in /usr/local/lib/python3.7/dist-packages (from mediapipe==0.8.3) (1.15.0)\n",
            "Requirement already satisfied: protobuf>=3.11.4 in /usr/local/lib/python3.7/dist-packages (from mediapipe==0.8.3) (3.17.3)\n",
            "Requirement already satisfied: wheel in /usr/local/lib/python3.7/dist-packages (from mediapipe==0.8.3) (0.37.1)\n",
            "Requirement already satisfied: absl-py in /usr/local/lib/python3.7/dist-packages (from mediapipe==0.8.3) (1.1.0)\n",
            "Installing collected packages: dataclasses, mediapipe\n",
            "Successfully installed dataclasses-0.6 mediapipe-0.8.3\n"
          ]
        }
      ]
    },
    {
      "cell_type": "code",
      "source": [
        "!wget https://github.com/kungfumas/databisindo/archive/refs/heads/main.zip"
      ],
      "metadata": {
        "id": "R_xGkKMzbxYP",
        "outputId": "32edca33-9ad2-4e40-87e7-600dab9c0611",
        "colab": {
          "base_uri": "https://localhost:8080/"
        }
      },
      "execution_count": 4,
      "outputs": [
        {
          "output_type": "stream",
          "name": "stdout",
          "text": [
            "--2022-06-15 22:21:54--  https://github.com/kungfumas/databisindo/archive/refs/heads/main.zip\n",
            "Resolving github.com (github.com)... 140.82.121.4\n",
            "Connecting to github.com (github.com)|140.82.121.4|:443... connected.\n",
            "HTTP request sent, awaiting response... 302 Found\n",
            "Location: https://codeload.github.com/kungfumas/databisindo/zip/refs/heads/main [following]\n",
            "--2022-06-15 22:21:54--  https://codeload.github.com/kungfumas/databisindo/zip/refs/heads/main\n",
            "Resolving codeload.github.com (codeload.github.com)... 140.82.121.10\n",
            "Connecting to codeload.github.com (codeload.github.com)|140.82.121.10|:443... connected.\n",
            "HTTP request sent, awaiting response... 200 OK\n",
            "Length: unspecified [application/zip]\n",
            "Saving to: ‘main.zip.1’\n",
            "\n",
            "main.zip.1              [     <=>            ]  16.82M  19.8MB/s    in 0.8s    \n",
            "\n",
            "2022-06-15 22:21:55 (19.8 MB/s) - ‘main.zip.1’ saved [17642068]\n",
            "\n"
          ]
        }
      ]
    },
    {
      "cell_type": "code",
      "source": [
        "# importing required modules\n",
        "from zipfile import ZipFile\n",
        "  \n",
        "# specifying the zip file name\n",
        "file_name = \"/content/main.zip\"\n",
        "  \n",
        "# opening the zip file in READ mode\n",
        "with ZipFile(file_name, 'r') as zip:\n",
        "    # printing all the contents of the zip file\n",
        "    zip.printdir()\n",
        "  \n",
        "    # extracting all the files\n",
        "    print('Extracting all the files now...')\n",
        "    zip.extractall()\n",
        "    print('Done!')"
      ],
      "metadata": {
        "id": "Q5nZFze3cFOt",
        "outputId": "4bf88d26-62d4-43af-a3a4-e841cad61a75",
        "colab": {
          "base_uri": "https://localhost:8080/"
        }
      },
      "execution_count": 5,
      "outputs": [
        {
          "output_type": "stream",
          "name": "stdout",
          "text": [
            "File Name                                             Modified             Size\n",
            "databisindo-main/                              2022-06-15 15:11:16            0\n",
            "databisindo-main/README.md                     2022-06-15 15:11:16           34\n",
            "databisindo-main/a/                            2022-06-15 15:11:16            0\n",
            "databisindo-main/a/ABJADJARIBISINDO190.jpg     2022-06-15 15:11:16        92614\n",
            "databisindo-main/a/ABJADJARIBISINDO191.jpg     2022-06-15 15:11:16        92685\n",
            "databisindo-main/a/ABJADJARIBISINDO192.jpg     2022-06-15 15:11:16        92817\n",
            "databisindo-main/a/ABJADJARIBISINDO193.jpg     2022-06-15 15:11:16        93360\n",
            "databisindo-main/a/ABJADJARIBISINDO194.jpg     2022-06-15 15:11:16        92140\n",
            "databisindo-main/a/ABJADJARIBISINDO195.jpg     2022-06-15 15:11:16        93663\n",
            "databisindo-main/a/ABJADJARIBISINDO196.jpg     2022-06-15 15:11:16        92482\n",
            "databisindo-main/a/ABJADJARIBISINDO197.jpg     2022-06-15 15:11:16        93281\n",
            "databisindo-main/a/ABJADJARIBISINDO198.jpg     2022-06-15 15:11:16        94012\n",
            "databisindo-main/a/ABJADJARIBISINDO199.jpg     2022-06-15 15:11:16        93169\n",
            "databisindo-main/a/ABJADJARIBISINDO200.jpg     2022-06-15 15:11:16        93107\n",
            "databisindo-main/a/ABJADJARIBISINDO201.jpg     2022-06-15 15:11:16        93721\n",
            "databisindo-main/a/ABJADJARIBISINDO202.jpg     2022-06-15 15:11:16        93447\n",
            "databisindo-main/a/ABJADJARIBISINDO203.jpg     2022-06-15 15:11:16        94030\n",
            "databisindo-main/a/ABJADJARIBISINDO204.jpg     2022-06-15 15:11:16        93414\n",
            "databisindo-main/a/ABJADJARIBISINDO205.jpg     2022-06-15 15:11:16        93891\n",
            "databisindo-main/a/ABJADJARIBISINDO206.jpg     2022-06-15 15:11:16        94148\n",
            "databisindo-main/a/ABJADJARIBISINDO207.jpg     2022-06-15 15:11:16        93696\n",
            "databisindo-main/a/ABJADJARIBISINDO208.jpg     2022-06-15 15:11:16        93931\n",
            "databisindo-main/a/ABJADJARIBISINDO209.jpg     2022-06-15 15:11:16        94362\n",
            "databisindo-main/a/ABJADJARIBISINDO210.jpg     2022-06-15 15:11:16        93715\n",
            "databisindo-main/a/ABJADJARIBISINDO211.jpg     2022-06-15 15:11:16        93949\n",
            "databisindo-main/a/ABJADJARIBISINDO212.jpg     2022-06-15 15:11:16        94571\n",
            "databisindo-main/a/ABJADJARIBISINDO213.jpg     2022-06-15 15:11:16        94007\n",
            "databisindo-main/a/ABJADJARIBISINDO214.jpg     2022-06-15 15:11:16        94758\n",
            "databisindo-main/a/ABJADJARIBISINDO215.jpg     2022-06-15 15:11:16        93998\n",
            "databisindo-main/a/ABJADJARIBISINDO216.jpg     2022-06-15 15:11:16        94846\n",
            "databisindo-main/a/ABJADJARIBISINDO217.jpg     2022-06-15 15:11:16        93724\n",
            "databisindo-main/a/ABJADJARIBISINDO218.jpg     2022-06-15 15:11:16        94721\n",
            "databisindo-main/a/ABJADJARIBISINDO219.jpg     2022-06-15 15:11:16        93732\n",
            "databisindo-main/a/ABJADJARIBISINDO220.jpg     2022-06-15 15:11:16        93612\n",
            "databisindo-main/a/ABJADJARIBISINDO221.jpg     2022-06-15 15:11:16        94479\n",
            "databisindo-main/a/ABJADJARIBISINDO222.jpg     2022-06-15 15:11:16        93190\n",
            "databisindo-main/a/ABJADJARIBISINDO223.jpg     2022-06-15 15:11:16        93632\n",
            "databisindo-main/a/ABJADJARIBISINDO224.jpg     2022-06-15 15:11:16        94128\n",
            "databisindo-main/a/ABJADJARIBISINDO225.jpg     2022-06-15 15:11:16        94150\n",
            "databisindo-main/a/ABJADJARIBISINDO226.jpg     2022-06-15 15:11:16        93735\n",
            "databisindo-main/a/ABJADJARIBISINDO227.jpg     2022-06-15 15:11:16        94295\n",
            "databisindo-main/a/ABJADJARIBISINDO228.jpg     2022-06-15 15:11:16        93806\n",
            "databisindo-main/a/ABJADJARIBISINDO229.jpg     2022-06-15 15:11:16        94087\n",
            "databisindo-main/a/ABJADJARIBISINDO230.jpg     2022-06-15 15:11:16        93722\n",
            "databisindo-main/a/ABJADJARIBISINDO231.jpg     2022-06-15 15:11:16        93931\n",
            "databisindo-main/a/ABJADJARIBISINDO232.jpg     2022-06-15 15:11:16        93243\n",
            "databisindo-main/a/ABJADJARIBISINDO233.jpg     2022-06-15 15:11:16        92636\n",
            "databisindo-main/a/ABJADJARIBISINDO234.jpg     2022-06-15 15:11:16        93476\n",
            "databisindo-main/a/ABJADJARIBISINDO235.jpg     2022-06-15 15:11:16        92777\n",
            "databisindo-main/a/ABJADJARIBISINDO236.jpg     2022-06-15 15:11:16        92878\n",
            "databisindo-main/a/ABJADJARIBISINDO237.jpg     2022-06-15 15:11:16        91042\n",
            "databisindo-main/a/ABJADJARIBISINDO238.jpg     2022-06-15 15:11:16        90798\n",
            "databisindo-main/a/ABJADJARIBISINDO239.jpg     2022-06-15 15:11:16        90138\n",
            "databisindo-main/a/ABJADJARIBISINDO240.jpg     2022-06-15 15:11:16        90863\n",
            "databisindo-main/a/ABJADJARIBISINDO241.jpg     2022-06-15 15:11:16        90833\n",
            "databisindo-main/a/ABJADJARIBISINDO242.jpg     2022-06-15 15:11:16        89294\n",
            "databisindo-main/a/ABJADJARIBISINDO243.jpg     2022-06-15 15:11:16        89906\n",
            "databisindo-main/a/ABJADJARIBISINDO244.jpg     2022-06-15 15:11:16        88696\n",
            "databisindo-main/a/ABJADJARIBISINDO245.jpg     2022-06-15 15:11:16        89340\n",
            "databisindo-main/a/ABJADJARIBISINDO246.jpg     2022-06-15 15:11:16        87943\n",
            "databisindo-main/a/ABJADJARIBISINDO247.jpg     2022-06-15 15:11:16        88763\n",
            "databisindo-main/a/ABJADJARIBISINDO248.jpg     2022-06-15 15:11:16        87417\n",
            "databisindo-main/a/ABJADJARIBISINDO249.jpg     2022-06-15 15:11:16        86504\n",
            "databisindo-main/a/ABJADJARIBISINDO250.jpg     2022-06-15 15:11:16        83684\n",
            "databisindo-main/a/ABJADJARIBISINDO251.jpg     2022-06-15 15:11:16        76802\n",
            "databisindo-main/a/a.md                        2022-06-15 15:11:16           16\n",
            "databisindo-main/b/                            2022-06-15 15:11:16            0\n",
            "databisindo-main/b/ABJADJARIBISINDO317.jpg     2022-06-15 15:11:16        85058\n",
            "databisindo-main/b/ABJADJARIBISINDO318.jpg     2022-06-15 15:11:16        85511\n",
            "databisindo-main/b/ABJADJARIBISINDO319.jpg     2022-06-15 15:11:16        84583\n",
            "databisindo-main/b/ABJADJARIBISINDO320.jpg     2022-06-15 15:11:16        84212\n",
            "databisindo-main/b/ABJADJARIBISINDO321.jpg     2022-06-15 15:11:16        83661\n",
            "databisindo-main/b/ABJADJARIBISINDO322.jpg     2022-06-15 15:11:16        83825\n",
            "databisindo-main/b/ABJADJARIBISINDO323.jpg     2022-06-15 15:11:16        85084\n",
            "databisindo-main/b/ABJADJARIBISINDO324.jpg     2022-06-15 15:11:16        84870\n",
            "databisindo-main/b/ABJADJARIBISINDO325.jpg     2022-06-15 15:11:16        83544\n",
            "databisindo-main/b/ABJADJARIBISINDO326.jpg     2022-06-15 15:11:16        84691\n",
            "databisindo-main/b/ABJADJARIBISINDO327.jpg     2022-06-15 15:11:16        85659\n",
            "databisindo-main/b/ABJADJARIBISINDO328.jpg     2022-06-15 15:11:16        85870\n",
            "databisindo-main/b/ABJADJARIBISINDO329.jpg     2022-06-15 15:11:16        84660\n",
            "databisindo-main/b/ABJADJARIBISINDO330.jpg     2022-06-15 15:11:16        85593\n",
            "databisindo-main/b/ABJADJARIBISINDO331.jpg     2022-06-15 15:11:16        85466\n",
            "databisindo-main/b/ABJADJARIBISINDO332.jpg     2022-06-15 15:11:16        86006\n",
            "databisindo-main/b/ABJADJARIBISINDO333.jpg     2022-06-15 15:11:16        85680\n",
            "databisindo-main/b/ABJADJARIBISINDO334.jpg     2022-06-15 15:11:16        86464\n",
            "databisindo-main/b/ABJADJARIBISINDO335.jpg     2022-06-15 15:11:16        86627\n",
            "databisindo-main/b/ABJADJARIBISINDO336.jpg     2022-06-15 15:11:16        86247\n",
            "databisindo-main/b/ABJADJARIBISINDO337.jpg     2022-06-15 15:11:16        86926\n",
            "databisindo-main/b/ABJADJARIBISINDO338.jpg     2022-06-15 15:11:16        86366\n",
            "databisindo-main/b/ABJADJARIBISINDO339.jpg     2022-06-15 15:11:16        87240\n",
            "databisindo-main/b/ABJADJARIBISINDO340.jpg     2022-06-15 15:11:16        86818\n",
            "databisindo-main/b/ABJADJARIBISINDO341.jpg     2022-06-15 15:11:16        88089\n",
            "databisindo-main/b/ABJADJARIBISINDO342.jpg     2022-06-15 15:11:16        87465\n",
            "databisindo-main/b/ABJADJARIBISINDO343.jpg     2022-06-15 15:11:16        88250\n",
            "databisindo-main/b/ABJADJARIBISINDO344.jpg     2022-06-15 15:11:16        87081\n",
            "databisindo-main/b/ABJADJARIBISINDO345.jpg     2022-06-15 15:11:16        88277\n",
            "databisindo-main/b/ABJADJARIBISINDO346.jpg     2022-06-15 15:11:16        87201\n",
            "databisindo-main/b/ABJADJARIBISINDO347.jpg     2022-06-15 15:11:16        87111\n",
            "databisindo-main/b/ABJADJARIBISINDO348.jpg     2022-06-15 15:11:16        88085\n",
            "databisindo-main/b/ABJADJARIBISINDO349.jpg     2022-06-15 15:11:16        87461\n",
            "databisindo-main/b/ABJADJARIBISINDO350.jpg     2022-06-15 15:11:16        87470\n",
            "databisindo-main/b/ABJADJARIBISINDO351.jpg     2022-06-15 15:11:16        87847\n",
            "databisindo-main/b/ABJADJARIBISINDO352.jpg     2022-06-15 15:11:16        87536\n",
            "databisindo-main/b/ABJADJARIBISINDO353.jpg     2022-06-15 15:11:16        87784\n",
            "databisindo-main/b/ABJADJARIBISINDO354.jpg     2022-06-15 15:11:16        87301\n",
            "databisindo-main/b/ABJADJARIBISINDO355.jpg     2022-06-15 15:11:16        87910\n",
            "databisindo-main/b/ABJADJARIBISINDO356.jpg     2022-06-15 15:11:16        87542\n",
            "databisindo-main/b/ABJADJARIBISINDO357.jpg     2022-06-15 15:11:16        88129\n",
            "databisindo-main/b/ABJADJARIBISINDO358.jpg     2022-06-15 15:11:16        87759\n",
            "databisindo-main/b/ABJADJARIBISINDO359.jpg     2022-06-15 15:11:16        88047\n",
            "databisindo-main/b/ABJADJARIBISINDO360.jpg     2022-06-15 15:11:16        87826\n",
            "databisindo-main/b/ABJADJARIBISINDO361.jpg     2022-06-15 15:11:16        88256\n",
            "databisindo-main/b/ABJADJARIBISINDO362.jpg     2022-06-15 15:11:16        87804\n",
            "databisindo-main/b/ABJADJARIBISINDO363.jpg     2022-06-15 15:11:16        88165\n",
            "databisindo-main/b/ABJADJARIBISINDO364.jpg     2022-06-15 15:11:16        87430\n",
            "databisindo-main/b/ABJADJARIBISINDO365.jpg     2022-06-15 15:11:16        87763\n",
            "databisindo-main/b/ABJADJARIBISINDO366.jpg     2022-06-15 15:11:16        88489\n",
            "databisindo-main/b/ABJADJARIBISINDO367.jpg     2022-06-15 15:11:16        87646\n",
            "databisindo-main/b/ABJADJARIBISINDO368.jpg     2022-06-15 15:11:16        87705\n",
            "databisindo-main/b/ABJADJARIBISINDO369.jpg     2022-06-15 15:11:16        88326\n",
            "databisindo-main/b/ABJADJARIBISINDO370.jpg     2022-06-15 15:11:16        87716\n",
            "databisindo-main/b/ABJADJARIBISINDO371.jpg     2022-06-15 15:11:16        87844\n",
            "databisindo-main/b/ABJADJARIBISINDO372.jpg     2022-06-15 15:11:16        88638\n",
            "databisindo-main/b/ABJADJARIBISINDO373.jpg     2022-06-15 15:11:16        87494\n",
            "databisindo-main/b/ABJADJARIBISINDO374.jpg     2022-06-15 15:11:16        87609\n",
            "databisindo-main/b/ABJADJARIBISINDO375.jpg     2022-06-15 15:11:16        88263\n",
            "databisindo-main/b/ABJADJARIBISINDO376.jpg     2022-06-15 15:11:16        87487\n",
            "databisindo-main/b/ABJADJARIBISINDO377.jpg     2022-06-15 15:11:16        88427\n",
            "databisindo-main/b/ABJADJARIBISINDO378.jpg     2022-06-15 15:11:16        87724\n",
            "databisindo-main/b/ABJADJARIBISINDO379.jpg     2022-06-15 15:11:16        88195\n",
            "databisindo-main/b/ABJADJARIBISINDO380.jpg     2022-06-15 15:11:16        87502\n",
            "databisindo-main/b/ABJADJARIBISINDO381.jpg     2022-06-15 15:11:16        87713\n",
            "databisindo-main/b/ABJADJARIBISINDO382.jpg     2022-06-15 15:11:16        85343\n",
            "databisindo-main/b/ABJADJARIBISINDO383.jpg     2022-06-15 15:11:16        85160\n",
            "databisindo-main/b/ABJADJARIBISINDO384.jpg     2022-06-15 15:11:16        76435\n",
            "databisindo-main/b/ABJADJARIBISINDO385.jpg     2022-06-15 15:11:16        80155\n",
            "databisindo-main/b/ABJADJARIBISINDO386.jpg     2022-06-15 15:11:16        80577\n",
            "databisindo-main/b/ABJADJARIBISINDO387.jpg     2022-06-15 15:11:16        80649\n",
            "databisindo-main/b/ABJADJARIBISINDO388.jpg     2022-06-15 15:11:16        81923\n",
            "databisindo-main/b/ABJADJARIBISINDO389.jpg     2022-06-15 15:11:16        82037\n",
            "databisindo-main/b/b.md                        2022-06-15 15:11:16            8\n",
            "databisindo-main/c/                            2022-06-15 15:11:16            0\n",
            "databisindo-main/c/ABJADJARIBISINDO469.jpg     2022-06-15 15:11:16        80958\n",
            "databisindo-main/c/ABJADJARIBISINDO470.jpg     2022-06-15 15:11:16        83136\n",
            "databisindo-main/c/ABJADJARIBISINDO471.jpg     2022-06-15 15:11:16        82304\n",
            "databisindo-main/c/ABJADJARIBISINDO472.jpg     2022-06-15 15:11:16        82155\n",
            "databisindo-main/c/ABJADJARIBISINDO473.jpg     2022-06-15 15:11:16        81137\n",
            "databisindo-main/c/ABJADJARIBISINDO474.jpg     2022-06-15 15:11:16        81456\n",
            "databisindo-main/c/ABJADJARIBISINDO475.jpg     2022-06-15 15:11:16        79994\n",
            "databisindo-main/c/ABJADJARIBISINDO476.jpg     2022-06-15 15:11:16        82842\n",
            "databisindo-main/c/ABJADJARIBISINDO477.jpg     2022-06-15 15:11:16        83460\n",
            "databisindo-main/c/ABJADJARIBISINDO478.jpg     2022-06-15 15:11:16        84397\n",
            "databisindo-main/c/ABJADJARIBISINDO479.jpg     2022-06-15 15:11:16        84362\n",
            "databisindo-main/c/ABJADJARIBISINDO480.jpg     2022-06-15 15:11:16        84942\n",
            "databisindo-main/c/ABJADJARIBISINDO481.jpg     2022-06-15 15:11:16        85133\n",
            "databisindo-main/c/ABJADJARIBISINDO482.jpg     2022-06-15 15:11:16        84134\n",
            "databisindo-main/c/ABJADJARIBISINDO483.jpg     2022-06-15 15:11:16        85925\n",
            "databisindo-main/c/ABJADJARIBISINDO484.jpg     2022-06-15 15:11:16        84692\n",
            "databisindo-main/c/ABJADJARIBISINDO485.jpg     2022-06-15 15:11:16        84969\n",
            "databisindo-main/c/ABJADJARIBISINDO486.jpg     2022-06-15 15:11:16        84595\n",
            "databisindo-main/c/ABJADJARIBISINDO487.jpg     2022-06-15 15:11:16        84971\n",
            "databisindo-main/c/ABJADJARIBISINDO488.jpg     2022-06-15 15:11:16        86679\n",
            "databisindo-main/c/ABJADJARIBISINDO489.jpg     2022-06-15 15:11:16        86875\n",
            "databisindo-main/c/ABJADJARIBISINDO490.jpg     2022-06-15 15:11:16        85766\n",
            "databisindo-main/c/ABJADJARIBISINDO491.jpg     2022-06-15 15:11:16        85765\n",
            "databisindo-main/c/ABJADJARIBISINDO492.jpg     2022-06-15 15:11:16        86656\n",
            "databisindo-main/c/ABJADJARIBISINDO493.jpg     2022-06-15 15:11:16        86122\n",
            "databisindo-main/c/ABJADJARIBISINDO494.jpg     2022-06-15 15:11:16        86911\n",
            "databisindo-main/c/ABJADJARIBISINDO495.jpg     2022-06-15 15:11:16        85882\n",
            "databisindo-main/c/ABJADJARIBISINDO496.jpg     2022-06-15 15:11:16        86959\n",
            "databisindo-main/c/ABJADJARIBISINDO497.jpg     2022-06-15 15:11:16        86802\n",
            "databisindo-main/c/ABJADJARIBISINDO498.jpg     2022-06-15 15:11:16        87088\n",
            "databisindo-main/c/ABJADJARIBISINDO499.jpg     2022-06-15 15:11:16        85842\n",
            "databisindo-main/c/ABJADJARIBISINDO500.jpg     2022-06-15 15:11:16        86412\n",
            "databisindo-main/c/ABJADJARIBISINDO501.jpg     2022-06-15 15:11:16        87342\n",
            "databisindo-main/c/ABJADJARIBISINDO502.jpg     2022-06-15 15:11:16        86880\n",
            "databisindo-main/c/ABJADJARIBISINDO503.jpg     2022-06-15 15:11:16        86888\n",
            "databisindo-main/c/ABJADJARIBISINDO504.jpg     2022-06-15 15:11:16        87083\n",
            "databisindo-main/c/ABJADJARIBISINDO505.jpg     2022-06-15 15:11:16        86801\n",
            "databisindo-main/c/ABJADJARIBISINDO506.jpg     2022-06-15 15:11:16        87239\n",
            "databisindo-main/c/ABJADJARIBISINDO507.jpg     2022-06-15 15:11:16        86795\n",
            "databisindo-main/c/ABJADJARIBISINDO508.jpg     2022-06-15 15:11:16        86899\n",
            "databisindo-main/c/ABJADJARIBISINDO509.jpg     2022-06-15 15:11:16        87011\n",
            "databisindo-main/c/ABJADJARIBISINDO510.jpg     2022-06-15 15:11:16        86777\n",
            "databisindo-main/c/ABJADJARIBISINDO511.jpg     2022-06-15 15:11:16        86954\n",
            "databisindo-main/c/ABJADJARIBISINDO512.jpg     2022-06-15 15:11:16        79449\n",
            "databisindo-main/c/ABJADJARIBISINDO513.jpg     2022-06-15 15:11:16        82437\n",
            "databisindo-main/c/ABJADJARIBISINDO514.jpg     2022-06-15 15:11:16        82129\n",
            "databisindo-main/c/ABJADJARIBISINDO515.jpg     2022-06-15 15:11:16        83018\n",
            "databisindo-main/c/ABJADJARIBISINDO516.jpg     2022-06-15 15:11:16        84128\n",
            "databisindo-main/c/ABJADJARIBISINDO517.jpg     2022-06-15 15:11:16        83775\n",
            "databisindo-main/c/ABJADJARIBISINDO518.jpg     2022-06-15 15:11:16        83743\n",
            "databisindo-main/c/ABJADJARIBISINDO519.jpg     2022-06-15 15:11:16        83926\n",
            "databisindo-main/c/ABJADJARIBISINDO520.jpg     2022-06-15 15:11:16        84223\n",
            "databisindo-main/c/ABJADJARIBISINDO521.jpg     2022-06-15 15:11:16        84284\n",
            "databisindo-main/c/ABJADJARIBISINDO522.jpg     2022-06-15 15:11:16        84594\n",
            "databisindo-main/c/ABJADJARIBISINDO523.jpg     2022-06-15 15:11:16        84818\n",
            "databisindo-main/c/ABJADJARIBISINDO524.jpg     2022-06-15 15:11:16        85269\n",
            "databisindo-main/c/ABJADJARIBISINDO525.jpg     2022-06-15 15:11:16        85282\n",
            "databisindo-main/c/ABJADJARIBISINDO526.jpg     2022-06-15 15:11:16        85440\n",
            "databisindo-main/c/ABJADJARIBISINDO527.jpg     2022-06-15 15:11:16        85435\n",
            "databisindo-main/c/ABJADJARIBISINDO528.jpg     2022-06-15 15:11:16        85639\n",
            "databisindo-main/c/ABJADJARIBISINDO529.jpg     2022-06-15 15:11:16        85628\n",
            "databisindo-main/c/ABJADJARIBISINDO530.jpg     2022-06-15 15:11:16        85903\n",
            "databisindo-main/c/ABJADJARIBISINDO531.jpg     2022-06-15 15:11:16        85796\n",
            "databisindo-main/c/ABJADJARIBISINDO532.jpg     2022-06-15 15:11:16        85892\n",
            "databisindo-main/c/ABJADJARIBISINDO533.jpg     2022-06-15 15:11:16        86244\n",
            "databisindo-main/c/ABJADJARIBISINDO534.jpg     2022-06-15 15:11:16        86057\n",
            "databisindo-main/c/ABJADJARIBISINDO535.jpg     2022-06-15 15:11:16        86404\n",
            "databisindo-main/c/ABJADJARIBISINDO536.jpg     2022-06-15 15:11:16        86349\n",
            "databisindo-main/c/ABJADJARIBISINDO537.jpg     2022-06-15 15:11:16        86575\n",
            "databisindo-main/c/ABJADJARIBISINDO538.jpg     2022-06-15 15:11:16        86054\n",
            "databisindo-main/c/ABJADJARIBISINDO539.jpg     2022-06-15 15:11:16        86062\n",
            "databisindo-main/c/ABJADJARIBISINDO540.jpg     2022-06-15 15:11:16        85059\n",
            "databisindo-main/c/ABJADJARIBISINDO541.jpg     2022-06-15 15:11:16        85057\n",
            "databisindo-main/c/ABJADJARIBISINDO542.jpg     2022-06-15 15:11:16        84282\n",
            "databisindo-main/c/ABJADJARIBISINDO543.jpg     2022-06-15 15:11:16        84084\n",
            "databisindo-main/c/c.md                        2022-06-15 15:11:16            8\n",
            "Extracting all the files now...\n",
            "Done!\n"
          ]
        }
      ]
    },
    {
      "cell_type": "code",
      "source": [
        "!mkdir /content/databisindo-out\n"
      ],
      "metadata": {
        "id": "5skbZIMjcwve"
      },
      "execution_count": 3,
      "outputs": []
    },
    {
      "cell_type": "code",
      "source": [
        "!rm /content/databisindo-main/README.md"
      ],
      "metadata": {
        "id": "Afn70_Wsdwp8"
      },
      "execution_count": 9,
      "outputs": []
    },
    {
      "cell_type": "markdown",
      "metadata": {
        "id": "fgHTsKdz7cn_"
      },
      "source": [
        "# Step 1: Upload image samples"
      ]
    },
    {
      "cell_type": "markdown",
      "metadata": {
        "id": "1BfvGuy37ih1"
      },
      "source": [
        "Locally create a folder named `fitness_poses_images_in` with image samples.\n",
        "\n",
        "Images should repesent terminal states of desired pose classes. I.e. if you want to classify push-up provide iamges for two classes: when person is up, and when person is down.\n",
        "\n",
        "There should be about a few hundred samples per class covering different camera angles, environment conditions, body shapes, and exercise variations to build a good classifier.\n",
        "\n",
        "Required structure of the images_in_folder:\n",
        "```\n",
        "fitness_poses_images_in/\n",
        "  pushups_up/\n",
        "    image_001.jpg\n",
        "    image_002.jpg\n",
        "    ...\n",
        "  pushups_down/\n",
        "    image_001.jpg\n",
        "    image_002.jpg\n",
        "    ...\n",
        "  ...\n",
        "```\n",
        "\n",
        "Zip the `fitness_poses_images_in` folder:\n",
        "```\n",
        "zip -r fitness_poses_images_in.zip fitness_poses_images_in\n",
        "```\n",
        "\n",
        "And run the code below to upload it to the Colab runtime"
      ]
    },
    {
      "cell_type": "markdown",
      "metadata": {
        "id": "_MUhn--d82Mv"
      },
      "source": [
        "Unzip the archive:"
      ]
    },
    {
      "cell_type": "markdown",
      "metadata": {
        "id": "xdtsJ8TvqktY"
      },
      "source": [
        "# Step 2: Create samples for classifier\n",
        "\n",
        "Runs BlazePose on provided images to get target poses for the classifier in a format required by the demo App."
      ]
    },
    {
      "cell_type": "code",
      "metadata": {
        "id": "7PiV3r_Pphln"
      },
      "source": [
        "# Folder with images to use as target poses for classification.\n",
        "#\n",
        "# Images should repesent terminal states of desired pose classes. I.e. if you\n",
        "# want to classify push-up provide iamges for two classes: when person is up,\n",
        "# and when person is down.\n",
        "#\n",
        "# Required structure of the images_in_folder:\n",
        "#   fitness_poses_images_in/\n",
        "#     pushups_up/\n",
        "#       image_001.jpg\n",
        "#       image_002.jpg\n",
        "#       ...\n",
        "#     pushups_down/\n",
        "#       image_001.jpg\n",
        "#       image_002.jpg\n",
        "#       ...\n",
        "#     ...\n",
        "images_in_folder = '/content/databisindo-main'\n",
        "\n",
        "# Output folders for bootstrapped images and CSVs. Image will have a predicted\n",
        "# Pose rendering and can be used to remove unwanted samples.\n",
        "images_out_folder = '/content/databisindo-out'\n",
        "\n",
        "# Output CSV path to put bootstrapped poses to. This CSV will be used by the\n",
        "# demo App.\n",
        "#\n",
        "# Output CSV format:\n",
        "#   sample_00001,pose_class_1,x1,y1,z1,x2,y2,z2,...,x33,y33,z33\n",
        "#   sample_00002,pose_class_2,x1,y1,z1,x2,y2,z2,...,x33,y33,z33\n",
        "#   ...\n",
        "#\n",
        "csv_out_path = 'fitness_poses_csvs_out_basic.csv'"
      ],
      "execution_count": 6,
      "outputs": []
    },
    {
      "cell_type": "code",
      "metadata": {
        "id": "btboitEDrSDq",
        "colab": {
          "base_uri": "https://localhost:8080/"
        },
        "outputId": "1381e8b0-1d3f-4eb5-dbea-a44485921ec6"
      },
      "source": [
        "import csv\n",
        "import cv2\n",
        "import numpy as np\n",
        "import os\n",
        "import sys\n",
        "import tqdm\n",
        "\n",
        "from mediapipe.python.solutions import drawing_utils as mp_drawing\n",
        "from mediapipe.python.solutions import pose as mp_pose\n",
        "\n",
        "\n",
        "with open(csv_out_path, 'w') as csv_out_file:\n",
        "  csv_out_writer = csv.writer(csv_out_file, delimiter=',', quoting=csv.QUOTE_MINIMAL)\n",
        "\n",
        "  # Folder names are used as pose class names.\n",
        "  pose_class_names = sorted([n for n in os.listdir(images_in_folder) if not n.startswith('.')])\n",
        "\n",
        "  for pose_class_name in pose_class_names:\n",
        "    print('Bootstrapping ', pose_class_name, file=sys.stderr)\n",
        "\n",
        "    if not os.path.exists(os.path.join(images_out_folder, pose_class_name)):\n",
        "      os.makedirs(os.path.join(images_out_folder, pose_class_name))\n",
        "\n",
        "    image_names = sorted([\n",
        "        n for n in os.listdir(os.path.join(images_in_folder, pose_class_name))\n",
        "        if not n.startswith('.')])\n",
        "    for image_name in tqdm.tqdm(image_names, position=0):\n",
        "      # Load image.\n",
        "      input_frame = cv2.imread(os.path.join(images_in_folder, pose_class_name, image_name))\n",
        "      input_frame = cv2.cvtColor(input_frame, cv2.COLOR_BGR2RGB)\n",
        "\n",
        "      # Initialize fresh pose tracker and run it.\n",
        "      with mp_pose.Pose(upper_body_only=False) as pose_tracker:\n",
        "        result = pose_tracker.process(image=input_frame)\n",
        "        pose_landmarks = result.pose_landmarks\n",
        "      \n",
        "      # Save image with pose prediction (if pose was detected).\n",
        "      output_frame = input_frame.copy()\n",
        "      if pose_landmarks is not None:\n",
        "        mp_drawing.draw_landmarks(\n",
        "            image=output_frame,\n",
        "            landmark_list=pose_landmarks,\n",
        "            connections=mp_pose.POSE_CONNECTIONS)\n",
        "      output_frame = cv2.cvtColor(output_frame, cv2.COLOR_RGB2BGR)\n",
        "      cv2.imwrite(os.path.join(images_out_folder, image_name), output_frame)\n",
        "      \n",
        "      # Save landmarks.\n",
        "      if pose_landmarks is not None:\n",
        "        # Check the number of landmarks and take pose landmarks.\n",
        "        assert len(pose_landmarks.landmark) == 33, 'Unexpected number of predicted pose landmarks: {}'.format(len(pose_landmarks.landmark))\n",
        "        pose_landmarks = [[lmk.x, lmk.y, lmk.z] for lmk in pose_landmarks.landmark]\n",
        "\n",
        "        # Map pose landmarks from [0, 1] range to absolute coordinates to get\n",
        "        # correct aspect ratio.\n",
        "        frame_height, frame_width = output_frame.shape[:2]\n",
        "        pose_landmarks *= np.array([frame_width, frame_height, frame_width])\n",
        "\n",
        "        # Write pose sample to CSV.\n",
        "        pose_landmarks = np.around(pose_landmarks, 5).flatten().astype(np.str).tolist()\n",
        "        csv_out_writer.writerow([image_name, pose_class_name] + pose_landmarks)\n"
      ],
      "execution_count": 11,
      "outputs": [
        {
          "output_type": "stream",
          "name": "stderr",
          "text": [
            "Bootstrapping  a\n",
            "  0%|          | 0/62 [00:00<?, ?it/s]/usr/local/lib/python3.7/dist-packages/ipykernel_launcher.py:59: DeprecationWarning: `np.str` is a deprecated alias for the builtin `str`. To silence this warning, use `str` by itself. Doing this will not modify any behavior and is safe. If you specifically wanted the numpy scalar type, use `np.str_` here.\n",
            "Deprecated in NumPy 1.20; for more details and guidance: https://numpy.org/devdocs/release/1.20.0-notes.html#deprecations\n",
            "100%|██████████| 62/62 [00:10<00:00,  5.77it/s]\n",
            "Bootstrapping  b\n",
            "100%|██████████| 73/73 [00:12<00:00,  6.06it/s]\n",
            "Bootstrapping  c\n",
            "100%|██████████| 75/75 [00:12<00:00,  6.03it/s]\n"
          ]
        }
      ]
    },
    {
      "cell_type": "markdown",
      "metadata": {
        "id": "pfD86A2d1-8j"
      },
      "source": [
        "Now look at the output images with predicted Pose and remove those you are not satisfied with from the output CSV. Wrongly predicted poses will affect accuracy of the classification.\n",
        "\n",
        "Once done, you can use the CSV in the demo App.\n",
        "\n",
        "For more accurate validation of the predicted Poses use extended Colab provided in the documentation."
      ]
    },
    {
      "cell_type": "markdown",
      "metadata": {
        "id": "vIMSXunH9g6P"
      },
      "source": [
        "# Step 3: Download CSV\n",
        "\n",
        "Please check this [guide](https://developers.google.com/ml-kit/vision/pose-detection/classifying-poses#4_integrate_with_the_ml_kit_quickstart_app) on how to use this CSV in the ML Kit sample app."
      ]
    },
    {
      "cell_type": "code",
      "metadata": {
        "id": "90E4HOoJ9uMY",
        "colab": {
          "base_uri": "https://localhost:8080/",
          "height": 165
        },
        "outputId": "75747ece-b5c5-4702-8ab3-8016cf919fe5"
      },
      "source": [
        "files.download(csv_out_path)"
      ],
      "execution_count": 12,
      "outputs": [
        {
          "output_type": "error",
          "ename": "NameError",
          "evalue": "ignored",
          "traceback": [
            "\u001b[0;31m---------------------------------------------------------------------------\u001b[0m",
            "\u001b[0;31mNameError\u001b[0m                                 Traceback (most recent call last)",
            "\u001b[0;32m<ipython-input-12-f9fa79a26132>\u001b[0m in \u001b[0;36m<module>\u001b[0;34m()\u001b[0m\n\u001b[0;32m----> 1\u001b[0;31m \u001b[0mfiles\u001b[0m\u001b[0;34m.\u001b[0m\u001b[0mdownload\u001b[0m\u001b[0;34m(\u001b[0m\u001b[0mcsv_out_path\u001b[0m\u001b[0;34m)\u001b[0m\u001b[0;34m\u001b[0m\u001b[0;34m\u001b[0m\u001b[0m\n\u001b[0m",
            "\u001b[0;31mNameError\u001b[0m: name 'files' is not defined"
          ]
        }
      ]
    }
  ]
}