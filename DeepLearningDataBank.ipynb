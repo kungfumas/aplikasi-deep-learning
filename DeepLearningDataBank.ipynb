{
  "nbformat": 4,
  "nbformat_minor": 0,
  "metadata": {
    "colab": {
      "provenance": [],
      "authorship_tag": "ABX9TyO93bZoOtutID8XLqFzaons",
      "include_colab_link": true
    },
    "kernelspec": {
      "name": "python3",
      "display_name": "Python 3"
    },
    "language_info": {
      "name": "python"
    }
  },
  "cells": [
    {
      "cell_type": "markdown",
      "metadata": {
        "id": "view-in-github",
        "colab_type": "text"
      },
      "source": [
        "<a href=\"https://colab.research.google.com/github/kungfumas/aplikasi-deep-learning/blob/master/DeepLearningDataBank.ipynb\" target=\"_parent\"><img src=\"https://colab.research.google.com/assets/colab-badge.svg\" alt=\"Open In Colab\"/></a>"
      ]
    },
    {
      "cell_type": "code",
      "execution_count": 1,
      "metadata": {
        "colab": {
          "base_uri": "https://localhost:8080/"
        },
        "id": "4Q5E6oQTaalr",
        "outputId": "2e8f591c-7e09-4dfe-b357-4759a95fdc3a"
      },
      "outputs": [
        {
          "output_type": "stream",
          "name": "stderr",
          "text": [
            "<ipython-input-1-095a985e25ad>:17: DeprecationWarning: `np.float` is a deprecated alias for the builtin `float`. To silence this warning, use `float` by itself. Doing this will not modify any behavior and is safe. If you specifically wanted the numpy scalar type, use `np.float64` here.\n",
            "Deprecated in NumPy 1.20; for more details and guidance: https://numpy.org/devdocs/release/1.20.0-notes.html#deprecations\n",
            "  X = np.array(columnTransformer.fit_transform(X), dtype = np.float)\n"
          ]
        },
        {
          "output_type": "stream",
          "name": "stdout",
          "text": [
            "Epoch 1/100\n",
            "800/800 [==============================] - 2s 2ms/step - loss: 0.4828 - accuracy: 0.7960\n",
            "Epoch 2/100\n",
            "800/800 [==============================] - 1s 2ms/step - loss: 0.4182 - accuracy: 0.7960\n",
            "Epoch 3/100\n",
            "800/800 [==============================] - 1s 2ms/step - loss: 0.4072 - accuracy: 0.8074\n",
            "Epoch 4/100\n",
            "800/800 [==============================] - 2s 2ms/step - loss: 0.3975 - accuracy: 0.8263\n",
            "Epoch 5/100\n",
            "800/800 [==============================] - 3s 4ms/step - loss: 0.3888 - accuracy: 0.8291\n",
            "Epoch 6/100\n",
            "800/800 [==============================] - 3s 4ms/step - loss: 0.3833 - accuracy: 0.8310\n",
            "Epoch 7/100\n",
            "800/800 [==============================] - 3s 3ms/step - loss: 0.3775 - accuracy: 0.8421\n",
            "Epoch 8/100\n",
            "800/800 [==============================] - 3s 3ms/step - loss: 0.3735 - accuracy: 0.8465\n",
            "Epoch 9/100\n",
            "800/800 [==============================] - 3s 3ms/step - loss: 0.3704 - accuracy: 0.8478\n",
            "Epoch 10/100\n",
            "800/800 [==============================] - 4s 5ms/step - loss: 0.3683 - accuracy: 0.8487\n",
            "Epoch 11/100\n",
            "800/800 [==============================] - 3s 3ms/step - loss: 0.3656 - accuracy: 0.8521\n",
            "Epoch 12/100\n",
            "800/800 [==============================] - 1s 2ms/step - loss: 0.3643 - accuracy: 0.8504\n",
            "Epoch 13/100\n",
            "800/800 [==============================] - 1s 2ms/step - loss: 0.3622 - accuracy: 0.8519\n",
            "Epoch 14/100\n",
            "800/800 [==============================] - 1s 2ms/step - loss: 0.3620 - accuracy: 0.8524\n",
            "Epoch 15/100\n",
            "800/800 [==============================] - 1s 2ms/step - loss: 0.3613 - accuracy: 0.8524\n",
            "Epoch 16/100\n",
            "800/800 [==============================] - 1s 2ms/step - loss: 0.3606 - accuracy: 0.8524\n",
            "Epoch 17/100\n",
            "800/800 [==============================] - 1s 2ms/step - loss: 0.3591 - accuracy: 0.8524\n",
            "Epoch 18/100\n",
            "800/800 [==============================] - 2s 2ms/step - loss: 0.3593 - accuracy: 0.8529\n",
            "Epoch 19/100\n",
            "800/800 [==============================] - 2s 2ms/step - loss: 0.3575 - accuracy: 0.8521\n",
            "Epoch 20/100\n",
            "800/800 [==============================] - 1s 2ms/step - loss: 0.3573 - accuracy: 0.8537\n",
            "Epoch 21/100\n",
            "800/800 [==============================] - 1s 2ms/step - loss: 0.3560 - accuracy: 0.8553\n",
            "Epoch 22/100\n",
            "800/800 [==============================] - 1s 2ms/step - loss: 0.3546 - accuracy: 0.8547\n",
            "Epoch 23/100\n",
            "800/800 [==============================] - 1s 2ms/step - loss: 0.3554 - accuracy: 0.8558\n",
            "Epoch 24/100\n",
            "800/800 [==============================] - 1s 2ms/step - loss: 0.3545 - accuracy: 0.8535\n",
            "Epoch 25/100\n",
            "800/800 [==============================] - 1s 2ms/step - loss: 0.3551 - accuracy: 0.8546\n",
            "Epoch 26/100\n",
            "800/800 [==============================] - 1s 2ms/step - loss: 0.3545 - accuracy: 0.8547\n",
            "Epoch 27/100\n",
            "800/800 [==============================] - 2s 2ms/step - loss: 0.3529 - accuracy: 0.8541\n",
            "Epoch 28/100\n",
            "800/800 [==============================] - 2s 2ms/step - loss: 0.3537 - accuracy: 0.8556\n",
            "Epoch 29/100\n",
            "800/800 [==============================] - 1s 2ms/step - loss: 0.3534 - accuracy: 0.8572\n",
            "Epoch 30/100\n",
            "800/800 [==============================] - 1s 2ms/step - loss: 0.3530 - accuracy: 0.8551\n",
            "Epoch 31/100\n",
            "800/800 [==============================] - 1s 2ms/step - loss: 0.3521 - accuracy: 0.8547\n",
            "Epoch 32/100\n",
            "800/800 [==============================] - 1s 2ms/step - loss: 0.3517 - accuracy: 0.8560\n",
            "Epoch 33/100\n",
            "800/800 [==============================] - 1s 2ms/step - loss: 0.3519 - accuracy: 0.8550\n",
            "Epoch 34/100\n",
            "800/800 [==============================] - 1s 2ms/step - loss: 0.3514 - accuracy: 0.8550\n",
            "Epoch 35/100\n",
            "800/800 [==============================] - 1s 2ms/step - loss: 0.3515 - accuracy: 0.8577\n",
            "Epoch 36/100\n",
            "800/800 [==============================] - 2s 2ms/step - loss: 0.3504 - accuracy: 0.8584\n",
            "Epoch 37/100\n",
            "800/800 [==============================] - 2s 2ms/step - loss: 0.3518 - accuracy: 0.8572\n",
            "Epoch 38/100\n",
            "800/800 [==============================] - 1s 2ms/step - loss: 0.3506 - accuracy: 0.8579\n",
            "Epoch 39/100\n",
            "800/800 [==============================] - 1s 2ms/step - loss: 0.3506 - accuracy: 0.8597\n",
            "Epoch 40/100\n",
            "800/800 [==============================] - 1s 2ms/step - loss: 0.3510 - accuracy: 0.8572\n",
            "Epoch 41/100\n",
            "800/800 [==============================] - 1s 2ms/step - loss: 0.3497 - accuracy: 0.8576\n",
            "Epoch 42/100\n",
            "800/800 [==============================] - 1s 2ms/step - loss: 0.3511 - accuracy: 0.8569\n",
            "Epoch 43/100\n",
            "800/800 [==============================] - 1s 2ms/step - loss: 0.3491 - accuracy: 0.8559\n",
            "Epoch 44/100\n",
            "800/800 [==============================] - 1s 2ms/step - loss: 0.3489 - accuracy: 0.8583\n",
            "Epoch 45/100\n",
            "800/800 [==============================] - 1s 2ms/step - loss: 0.3484 - accuracy: 0.8589\n",
            "Epoch 46/100\n",
            "800/800 [==============================] - 2s 2ms/step - loss: 0.3483 - accuracy: 0.8583\n",
            "Epoch 47/100\n",
            "800/800 [==============================] - 2s 2ms/step - loss: 0.3480 - accuracy: 0.8586\n",
            "Epoch 48/100\n",
            "800/800 [==============================] - 1s 2ms/step - loss: 0.3483 - accuracy: 0.8600\n",
            "Epoch 49/100\n",
            "800/800 [==============================] - 1s 2ms/step - loss: 0.3474 - accuracy: 0.8615\n",
            "Epoch 50/100\n",
            "800/800 [==============================] - 1s 2ms/step - loss: 0.3480 - accuracy: 0.8586\n",
            "Epoch 51/100\n",
            "800/800 [==============================] - 1s 2ms/step - loss: 0.3470 - accuracy: 0.8586\n",
            "Epoch 52/100\n",
            "800/800 [==============================] - 1s 2ms/step - loss: 0.3468 - accuracy: 0.8586\n",
            "Epoch 53/100\n",
            "800/800 [==============================] - 1s 2ms/step - loss: 0.3472 - accuracy: 0.8596\n",
            "Epoch 54/100\n",
            "800/800 [==============================] - 1s 2ms/step - loss: 0.3467 - accuracy: 0.8590\n",
            "Epoch 55/100\n",
            "800/800 [==============================] - 2s 2ms/step - loss: 0.3462 - accuracy: 0.8580\n",
            "Epoch 56/100\n",
            "800/800 [==============================] - 2s 2ms/step - loss: 0.3452 - accuracy: 0.8575\n",
            "Epoch 57/100\n",
            "800/800 [==============================] - 1s 2ms/step - loss: 0.3462 - accuracy: 0.8597\n",
            "Epoch 58/100\n",
            "800/800 [==============================] - 1s 2ms/step - loss: 0.3456 - accuracy: 0.8612\n",
            "Epoch 59/100\n",
            "800/800 [==============================] - 1s 2ms/step - loss: 0.3453 - accuracy: 0.8602\n",
            "Epoch 60/100\n",
            "800/800 [==============================] - 1s 2ms/step - loss: 0.3442 - accuracy: 0.8591\n",
            "Epoch 61/100\n",
            "800/800 [==============================] - 1s 2ms/step - loss: 0.3450 - accuracy: 0.8581\n",
            "Epoch 62/100\n",
            "800/800 [==============================] - 1s 2ms/step - loss: 0.3444 - accuracy: 0.8585\n",
            "Epoch 63/100\n",
            "800/800 [==============================] - 1s 2ms/step - loss: 0.3433 - accuracy: 0.8590\n",
            "Epoch 64/100\n",
            "800/800 [==============================] - 2s 2ms/step - loss: 0.3435 - accuracy: 0.8601\n",
            "Epoch 65/100\n",
            "800/800 [==============================] - 2s 2ms/step - loss: 0.3436 - accuracy: 0.8608\n",
            "Epoch 66/100\n",
            "800/800 [==============================] - 1s 2ms/step - loss: 0.3429 - accuracy: 0.8591\n",
            "Epoch 67/100\n",
            "800/800 [==============================] - 1s 2ms/step - loss: 0.3427 - accuracy: 0.8590\n",
            "Epoch 68/100\n",
            "800/800 [==============================] - 1s 2ms/step - loss: 0.3425 - accuracy: 0.8594\n",
            "Epoch 69/100\n",
            "800/800 [==============================] - 1s 2ms/step - loss: 0.3426 - accuracy: 0.8596\n",
            "Epoch 70/100\n",
            "800/800 [==============================] - 1s 2ms/step - loss: 0.3429 - accuracy: 0.8572\n",
            "Epoch 71/100\n",
            "800/800 [==============================] - 1s 2ms/step - loss: 0.3427 - accuracy: 0.8606\n",
            "Epoch 72/100\n",
            "800/800 [==============================] - 1s 2ms/step - loss: 0.3423 - accuracy: 0.8591\n",
            "Epoch 73/100\n",
            "800/800 [==============================] - 2s 2ms/step - loss: 0.3417 - accuracy: 0.8591\n",
            "Epoch 74/100\n",
            "800/800 [==============================] - 2s 2ms/step - loss: 0.3420 - accuracy: 0.8589\n",
            "Epoch 75/100\n",
            "800/800 [==============================] - 1s 2ms/step - loss: 0.3423 - accuracy: 0.8609\n",
            "Epoch 76/100\n",
            "800/800 [==============================] - 2s 2ms/step - loss: 0.3413 - accuracy: 0.8608\n",
            "Epoch 77/100\n",
            "800/800 [==============================] - 1s 2ms/step - loss: 0.3407 - accuracy: 0.8602\n",
            "Epoch 78/100\n",
            "800/800 [==============================] - 1s 2ms/step - loss: 0.3417 - accuracy: 0.8589\n",
            "Epoch 79/100\n",
            "800/800 [==============================] - 1s 2ms/step - loss: 0.3406 - accuracy: 0.8599\n",
            "Epoch 80/100\n",
            "800/800 [==============================] - 1s 2ms/step - loss: 0.3410 - accuracy: 0.8581\n",
            "Epoch 81/100\n",
            "800/800 [==============================] - 1s 2ms/step - loss: 0.3402 - accuracy: 0.8569\n",
            "Epoch 82/100\n",
            "800/800 [==============================] - 2s 2ms/step - loss: 0.3411 - accuracy: 0.8587\n",
            "Epoch 83/100\n",
            "800/800 [==============================] - 2s 2ms/step - loss: 0.3415 - accuracy: 0.8590\n",
            "Epoch 84/100\n",
            "800/800 [==============================] - 1s 2ms/step - loss: 0.3409 - accuracy: 0.8608\n",
            "Epoch 85/100\n",
            "800/800 [==============================] - 1s 2ms/step - loss: 0.3410 - accuracy: 0.8597\n",
            "Epoch 86/100\n",
            "800/800 [==============================] - 1s 2ms/step - loss: 0.3407 - accuracy: 0.8601\n",
            "Epoch 87/100\n",
            "800/800 [==============================] - 1s 2ms/step - loss: 0.3417 - accuracy: 0.8575\n",
            "Epoch 88/100\n",
            "800/800 [==============================] - 1s 2ms/step - loss: 0.3413 - accuracy: 0.8583\n",
            "Epoch 89/100\n",
            "800/800 [==============================] - 1s 2ms/step - loss: 0.3408 - accuracy: 0.8597\n",
            "Epoch 90/100\n",
            "800/800 [==============================] - 1s 2ms/step - loss: 0.3410 - accuracy: 0.8620\n",
            "Epoch 91/100\n",
            "800/800 [==============================] - 1s 2ms/step - loss: 0.3406 - accuracy: 0.8583\n",
            "Epoch 92/100\n",
            "800/800 [==============================] - 2s 2ms/step - loss: 0.3417 - accuracy: 0.8594\n",
            "Epoch 93/100\n",
            "800/800 [==============================] - 1s 2ms/step - loss: 0.3403 - accuracy: 0.8605\n",
            "Epoch 94/100\n",
            "800/800 [==============================] - 2s 2ms/step - loss: 0.3401 - accuracy: 0.8622\n",
            "Epoch 95/100\n",
            "800/800 [==============================] - 1s 2ms/step - loss: 0.3409 - accuracy: 0.8586\n",
            "Epoch 96/100\n",
            "800/800 [==============================] - 1s 2ms/step - loss: 0.3410 - accuracy: 0.8601\n",
            "Epoch 97/100\n",
            "800/800 [==============================] - 1s 2ms/step - loss: 0.3395 - accuracy: 0.8622\n",
            "Epoch 98/100\n",
            "800/800 [==============================] - 1s 2ms/step - loss: 0.3397 - accuracy: 0.8619\n",
            "Epoch 99/100\n",
            "800/800 [==============================] - 1s 2ms/step - loss: 0.3391 - accuracy: 0.8612\n",
            "Epoch 100/100\n",
            "800/800 [==============================] - 2s 2ms/step - loss: 0.3400 - accuracy: 0.8587\n",
            "63/63 [==============================] - 0s 2ms/step\n"
          ]
        }
      ],
      "source": [
        "# Mengimpor library yang diperlukan\n",
        "import numpy as np\n",
        "import matplotlib.pyplot as plt\n",
        "import pandas as pd\n",
        "# Mengimpor dataset\n",
        "dataset = pd.read_csv('https://raw.githubusercontent.com/kungfumas/aplikasi-deep-learning/master/Data_bank_churn.csv')\n",
        "X = dataset.iloc[:, 3:13].values\n",
        "y = dataset.iloc[:, 13].values\n",
        "# Mengonversi data kategori jenis kelamin menjadi numerik\n",
        "from sklearn.preprocessing import LabelEncoder, OneHotEncoder\n",
        "from sklearn.compose import ColumnTransformer\n",
        "labelencoder = LabelEncoder()\n",
        "X[:, 2] = labelencoder.fit_transform(X[:, 2])\n",
        "# Membuat dummy variable untuk kolom negara\n",
        "# apa itu dummy variabel? baca di penjelasan\n",
        "columnTransformer = ColumnTransformer([('encoder', OneHotEncoder(), [1])], remainder='passthrough')\n",
        "X = np.array(columnTransformer.fit_transform(X), dtype = np.float)\n",
        "# Menghilangkan 1 dummy variabel di kolom negara\n",
        "X = X[:, 1:]\n",
        "# Membagi data ke test dan training set\n",
        "from sklearn.model_selection import train_test_split\n",
        "X_train, X_test, y_train, y_test = train_test_split(X, y, test_size = 0.2, random_state = 0)\n",
        "# Feature Scaling\n",
        "from sklearn.preprocessing import StandardScaler\n",
        "sc = StandardScaler()\n",
        "X_train = sc.fit_transform(X_train)\n",
        "X_test = sc.transform(X_test)\n",
        "# Mengimpor library Keras dan turunannya\n",
        "# Sekarang menggunakan TensorFlow 2.0\n",
        "from tensorflow.keras.models import Sequential\n",
        "from tensorflow.keras.layers import Dense\n",
        "# Inisialisasi ANN\n",
        "MesinKlasifikasi = Sequential()\n",
        "# Menambah input layer dan hidden layer pertama\n",
        "MesinKlasifikasi.add(Dense(units = 6, kernel_initializer = 'uniform', activation = 'relu', input_dim = 11))\n",
        "# Menambah hidden layer kedua\n",
        "MesinKlasifikasi.add(Dense(units = 6, kernel_initializer = 'uniform', activation = 'relu'))\n",
        "# Menambah output layer\n",
        "MesinKlasifikasi.add(Dense(units = 1, kernel_initializer = 'uniform', activation = 'sigmoid'))\n",
        "# Meenjalankan ANN\n",
        "MesinKlasifikasi.compile(optimizer = 'adam', loss = 'binary_crossentropy', metrics = ['accuracy'])\n",
        "# Fitting ANN ke training set\n",
        "MesinKlasifikasi.fit(X_train, y_train, batch_size = 10, epochs = 100)\n"
      ]
    },
    {
      "cell_type": "code",
      "source": [
        "# Memprediksi hasil test set\n",
        "y_pred = MesinKlasifikasi.predict(X_test)\n",
        "y_pred = (y_pred > 0.5)\n",
        "# Membuat confusion matrix\n",
        "from sklearn.metrics import confusion_matrix\n",
        "cm = confusion_matrix(y_test, y_pred)\n"
      ],
      "metadata": {
        "colab": {
          "base_uri": "https://localhost:8080/"
        },
        "id": "eOVRbsZDbzCd",
        "outputId": "cc667302-0b0a-414f-ab50-3107874b1bac"
      },
      "execution_count": 2,
      "outputs": [
        {
          "output_type": "stream",
          "name": "stdout",
          "text": [
            "63/63 [==============================] - 0s 4ms/step\n"
          ]
        }
      ]
    },
    {
      "cell_type": "code",
      "source": [
        "cm"
      ],
      "metadata": {
        "colab": {
          "base_uri": "https://localhost:8080/"
        },
        "id": "KnRf7Pprb_FG",
        "outputId": "30269f11-f013-4f5f-d4c4-a5049bac1daf"
      },
      "execution_count": 3,
      "outputs": [
        {
          "output_type": "execute_result",
          "data": {
            "text/plain": [
              "array([[1498,   97],\n",
              "       [ 184,  221]])"
            ]
          },
          "metadata": {},
          "execution_count": 3
        }
      ]
    },
    {
      "cell_type": "code",
      "source": [],
      "metadata": {
        "id": "jxPsiGL1dFhM"
      },
      "execution_count": 6,
      "outputs": []
    },
    {
      "cell_type": "code",
      "source": [],
      "metadata": {
        "colab": {
          "base_uri": "https://localhost:8080/",
          "height": 867
        },
        "id": "xOgb6_zSdgI-",
        "outputId": "d78d2c4b-827f-4459-d561-23ea1039c05c"
      },
      "execution_count": 7,
      "outputs": [
        {
          "output_type": "error",
          "ename": "TypeError",
          "evalue": "ignored",
          "traceback": [
            "\u001b[0;31m---------------------------------------------------------------------------\u001b[0m",
            "\u001b[0;31mTypeError\u001b[0m                                 Traceback (most recent call last)",
            "\u001b[0;32m/usr/local/lib/python3.10/dist-packages/matplotlib/axis.py\u001b[0m in \u001b[0;36mset_ticklabels\u001b[0;34m(self, labels, minor, fontdict, **kwargs)\u001b[0m\n\u001b[1;32m   1958\u001b[0m         \u001b[0;32mtry\u001b[0m\u001b[0;34m:\u001b[0m\u001b[0;34m\u001b[0m\u001b[0;34m\u001b[0m\u001b[0m\n\u001b[0;32m-> 1959\u001b[0;31m             labels = [t.get_text() if hasattr(t, 'get_text') else t\n\u001b[0m\u001b[1;32m   1960\u001b[0m                       for t in labels]\n",
            "\u001b[0;31mTypeError\u001b[0m: 'Sequential' object is not iterable",
            "\nDuring handling of the above exception, another exception occurred:\n",
            "\u001b[0;31mTypeError\u001b[0m                                 Traceback (most recent call last)",
            "\u001b[0;32m<ipython-input-7-975122b97661>\u001b[0m in \u001b[0;36m<cell line: 1>\u001b[0;34m()\u001b[0m\n\u001b[0;32m----> 1\u001b[0;31m \u001b[0mdisp\u001b[0m\u001b[0;34m.\u001b[0m\u001b[0mplot\u001b[0m\u001b[0;34m(\u001b[0m\u001b[0;34m)\u001b[0m\u001b[0;34m\u001b[0m\u001b[0;34m\u001b[0m\u001b[0m\n\u001b[0m",
            "\u001b[0;32m/usr/local/lib/python3.10/dist-packages/sklearn/metrics/_plot/confusion_matrix.py\u001b[0m in \u001b[0;36mplot\u001b[0;34m(self, include_values, cmap, xticks_rotation, values_format, ax, colorbar, im_kw, text_kw)\u001b[0m\n\u001b[1;32m    179\u001b[0m         \u001b[0;32mif\u001b[0m \u001b[0mcolorbar\u001b[0m\u001b[0;34m:\u001b[0m\u001b[0;34m\u001b[0m\u001b[0;34m\u001b[0m\u001b[0m\n\u001b[1;32m    180\u001b[0m             \u001b[0mfig\u001b[0m\u001b[0;34m.\u001b[0m\u001b[0mcolorbar\u001b[0m\u001b[0;34m(\u001b[0m\u001b[0mself\u001b[0m\u001b[0;34m.\u001b[0m\u001b[0mim_\u001b[0m\u001b[0;34m,\u001b[0m \u001b[0max\u001b[0m\u001b[0;34m=\u001b[0m\u001b[0max\u001b[0m\u001b[0;34m)\u001b[0m\u001b[0;34m\u001b[0m\u001b[0;34m\u001b[0m\u001b[0m\n\u001b[0;32m--> 181\u001b[0;31m         ax.set(\n\u001b[0m\u001b[1;32m    182\u001b[0m             \u001b[0mxticks\u001b[0m\u001b[0;34m=\u001b[0m\u001b[0mnp\u001b[0m\u001b[0;34m.\u001b[0m\u001b[0marange\u001b[0m\u001b[0;34m(\u001b[0m\u001b[0mn_classes\u001b[0m\u001b[0;34m)\u001b[0m\u001b[0;34m,\u001b[0m\u001b[0;34m\u001b[0m\u001b[0;34m\u001b[0m\u001b[0m\n\u001b[1;32m    183\u001b[0m             \u001b[0myticks\u001b[0m\u001b[0;34m=\u001b[0m\u001b[0mnp\u001b[0m\u001b[0;34m.\u001b[0m\u001b[0marange\u001b[0m\u001b[0;34m(\u001b[0m\u001b[0mn_classes\u001b[0m\u001b[0;34m)\u001b[0m\u001b[0;34m,\u001b[0m\u001b[0;34m\u001b[0m\u001b[0;34m\u001b[0m\u001b[0m\n",
            "\u001b[0;32m/usr/local/lib/python3.10/dist-packages/matplotlib/artist.py\u001b[0m in \u001b[0;36m<lambda>\u001b[0;34m(self, **kwargs)\u001b[0m\n\u001b[1;32m    145\u001b[0m             \u001b[0;32mreturn\u001b[0m\u001b[0;34m\u001b[0m\u001b[0;34m\u001b[0m\u001b[0m\n\u001b[1;32m    146\u001b[0m \u001b[0;34m\u001b[0m\u001b[0m\n\u001b[0;32m--> 147\u001b[0;31m         \u001b[0mcls\u001b[0m\u001b[0;34m.\u001b[0m\u001b[0mset\u001b[0m \u001b[0;34m=\u001b[0m \u001b[0;32mlambda\u001b[0m \u001b[0mself\u001b[0m\u001b[0;34m,\u001b[0m \u001b[0;34m**\u001b[0m\u001b[0mkwargs\u001b[0m\u001b[0;34m:\u001b[0m \u001b[0mArtist\u001b[0m\u001b[0;34m.\u001b[0m\u001b[0mset\u001b[0m\u001b[0;34m(\u001b[0m\u001b[0mself\u001b[0m\u001b[0;34m,\u001b[0m \u001b[0;34m**\u001b[0m\u001b[0mkwargs\u001b[0m\u001b[0;34m)\u001b[0m\u001b[0;34m\u001b[0m\u001b[0;34m\u001b[0m\u001b[0m\n\u001b[0m\u001b[1;32m    148\u001b[0m         \u001b[0mcls\u001b[0m\u001b[0;34m.\u001b[0m\u001b[0mset\u001b[0m\u001b[0;34m.\u001b[0m\u001b[0m__name__\u001b[0m \u001b[0;34m=\u001b[0m \u001b[0;34m\"set\"\u001b[0m\u001b[0;34m\u001b[0m\u001b[0;34m\u001b[0m\u001b[0m\n\u001b[1;32m    149\u001b[0m         \u001b[0mcls\u001b[0m\u001b[0;34m.\u001b[0m\u001b[0mset\u001b[0m\u001b[0;34m.\u001b[0m\u001b[0m__qualname__\u001b[0m \u001b[0;34m=\u001b[0m \u001b[0;34mf\"{cls.__qualname__}.set\"\u001b[0m\u001b[0;34m\u001b[0m\u001b[0;34m\u001b[0m\u001b[0m\n",
            "\u001b[0;32m/usr/local/lib/python3.10/dist-packages/matplotlib/artist.py\u001b[0m in \u001b[0;36mset\u001b[0;34m(self, **kwargs)\u001b[0m\n\u001b[1;32m   1229\u001b[0m         \u001b[0;31m# Artist._update_set_signature_and_docstring() at the end of the\u001b[0m\u001b[0;34m\u001b[0m\u001b[0;34m\u001b[0m\u001b[0m\n\u001b[1;32m   1230\u001b[0m         \u001b[0;31m# module.\u001b[0m\u001b[0;34m\u001b[0m\u001b[0;34m\u001b[0m\u001b[0m\n\u001b[0;32m-> 1231\u001b[0;31m         \u001b[0;32mreturn\u001b[0m \u001b[0mself\u001b[0m\u001b[0;34m.\u001b[0m\u001b[0m_internal_update\u001b[0m\u001b[0;34m(\u001b[0m\u001b[0mcbook\u001b[0m\u001b[0;34m.\u001b[0m\u001b[0mnormalize_kwargs\u001b[0m\u001b[0;34m(\u001b[0m\u001b[0mkwargs\u001b[0m\u001b[0;34m,\u001b[0m \u001b[0mself\u001b[0m\u001b[0;34m)\u001b[0m\u001b[0;34m)\u001b[0m\u001b[0;34m\u001b[0m\u001b[0;34m\u001b[0m\u001b[0m\n\u001b[0m\u001b[1;32m   1232\u001b[0m \u001b[0;34m\u001b[0m\u001b[0m\n\u001b[1;32m   1233\u001b[0m     \u001b[0;34m@\u001b[0m\u001b[0mcontextlib\u001b[0m\u001b[0;34m.\u001b[0m\u001b[0mcontextmanager\u001b[0m\u001b[0;34m\u001b[0m\u001b[0;34m\u001b[0m\u001b[0m\n",
            "\u001b[0;32m/usr/local/lib/python3.10/dist-packages/matplotlib/artist.py\u001b[0m in \u001b[0;36m_internal_update\u001b[0;34m(self, kwargs)\u001b[0m\n\u001b[1;32m   1221\u001b[0m         \u001b[0mThe\u001b[0m \u001b[0mlack\u001b[0m \u001b[0mof\u001b[0m \u001b[0mprenormalization\u001b[0m \u001b[0;32mis\u001b[0m \u001b[0mto\u001b[0m \u001b[0mmaintain\u001b[0m \u001b[0mbackcompatibility\u001b[0m\u001b[0;34m.\u001b[0m\u001b[0;34m\u001b[0m\u001b[0;34m\u001b[0m\u001b[0m\n\u001b[1;32m   1222\u001b[0m         \"\"\"\n\u001b[0;32m-> 1223\u001b[0;31m         return self._update_props(\n\u001b[0m\u001b[1;32m   1224\u001b[0m             \u001b[0mkwargs\u001b[0m\u001b[0;34m,\u001b[0m \u001b[0;34m\"{cls.__name__}.set() got an unexpected keyword argument \"\u001b[0m\u001b[0;34m\u001b[0m\u001b[0;34m\u001b[0m\u001b[0m\n\u001b[1;32m   1225\u001b[0m             \"{prop_name!r}\")\n",
            "\u001b[0;32m/usr/local/lib/python3.10/dist-packages/matplotlib/artist.py\u001b[0m in \u001b[0;36m_update_props\u001b[0;34m(self, props, errfmt)\u001b[0m\n\u001b[1;32m   1197\u001b[0m                         raise AttributeError(\n\u001b[1;32m   1198\u001b[0m                             errfmt.format(cls=type(self), prop_name=k))\n\u001b[0;32m-> 1199\u001b[0;31m                     \u001b[0mret\u001b[0m\u001b[0;34m.\u001b[0m\u001b[0mappend\u001b[0m\u001b[0;34m(\u001b[0m\u001b[0mfunc\u001b[0m\u001b[0;34m(\u001b[0m\u001b[0mv\u001b[0m\u001b[0;34m)\u001b[0m\u001b[0;34m)\u001b[0m\u001b[0;34m\u001b[0m\u001b[0;34m\u001b[0m\u001b[0m\n\u001b[0m\u001b[1;32m   1200\u001b[0m         \u001b[0;32mif\u001b[0m \u001b[0mret\u001b[0m\u001b[0;34m:\u001b[0m\u001b[0;34m\u001b[0m\u001b[0;34m\u001b[0m\u001b[0m\n\u001b[1;32m   1201\u001b[0m             \u001b[0mself\u001b[0m\u001b[0;34m.\u001b[0m\u001b[0mpchanged\u001b[0m\u001b[0;34m(\u001b[0m\u001b[0;34m)\u001b[0m\u001b[0;34m\u001b[0m\u001b[0;34m\u001b[0m\u001b[0m\n",
            "\u001b[0;32m/usr/local/lib/python3.10/dist-packages/matplotlib/axes/_base.py\u001b[0m in \u001b[0;36mwrapper\u001b[0;34m(self, *args, **kwargs)\u001b[0m\n\u001b[1;32m     72\u001b[0m \u001b[0;34m\u001b[0m\u001b[0m\n\u001b[1;32m     73\u001b[0m         \u001b[0;32mdef\u001b[0m \u001b[0mwrapper\u001b[0m\u001b[0;34m(\u001b[0m\u001b[0mself\u001b[0m\u001b[0;34m,\u001b[0m \u001b[0;34m*\u001b[0m\u001b[0margs\u001b[0m\u001b[0;34m,\u001b[0m \u001b[0;34m**\u001b[0m\u001b[0mkwargs\u001b[0m\u001b[0;34m)\u001b[0m\u001b[0;34m:\u001b[0m\u001b[0;34m\u001b[0m\u001b[0;34m\u001b[0m\u001b[0m\n\u001b[0;32m---> 74\u001b[0;31m             \u001b[0;32mreturn\u001b[0m \u001b[0mget_method\u001b[0m\u001b[0;34m(\u001b[0m\u001b[0mself\u001b[0m\u001b[0;34m)\u001b[0m\u001b[0;34m(\u001b[0m\u001b[0;34m*\u001b[0m\u001b[0margs\u001b[0m\u001b[0;34m,\u001b[0m \u001b[0;34m**\u001b[0m\u001b[0mkwargs\u001b[0m\u001b[0;34m)\u001b[0m\u001b[0;34m\u001b[0m\u001b[0;34m\u001b[0m\u001b[0m\n\u001b[0m\u001b[1;32m     75\u001b[0m \u001b[0;34m\u001b[0m\u001b[0m\n\u001b[1;32m     76\u001b[0m         \u001b[0mwrapper\u001b[0m\u001b[0;34m.\u001b[0m\u001b[0m__module__\u001b[0m \u001b[0;34m=\u001b[0m \u001b[0mowner\u001b[0m\u001b[0;34m.\u001b[0m\u001b[0m__module__\u001b[0m\u001b[0;34m\u001b[0m\u001b[0;34m\u001b[0m\u001b[0m\n",
            "\u001b[0;32m/usr/local/lib/python3.10/dist-packages/matplotlib/_api/deprecation.py\u001b[0m in \u001b[0;36mwrapper\u001b[0;34m(*args, **kwargs)\u001b[0m\n\u001b[1;32m    295\u001b[0m                 f\"for the old name will be dropped %(removal)s.\")\n\u001b[1;32m    296\u001b[0m             \u001b[0mkwargs\u001b[0m\u001b[0;34m[\u001b[0m\u001b[0mnew\u001b[0m\u001b[0;34m]\u001b[0m \u001b[0;34m=\u001b[0m \u001b[0mkwargs\u001b[0m\u001b[0;34m.\u001b[0m\u001b[0mpop\u001b[0m\u001b[0;34m(\u001b[0m\u001b[0mold\u001b[0m\u001b[0;34m)\u001b[0m\u001b[0;34m\u001b[0m\u001b[0;34m\u001b[0m\u001b[0m\n\u001b[0;32m--> 297\u001b[0;31m         \u001b[0;32mreturn\u001b[0m \u001b[0mfunc\u001b[0m\u001b[0;34m(\u001b[0m\u001b[0;34m*\u001b[0m\u001b[0margs\u001b[0m\u001b[0;34m,\u001b[0m \u001b[0;34m**\u001b[0m\u001b[0mkwargs\u001b[0m\u001b[0;34m)\u001b[0m\u001b[0;34m\u001b[0m\u001b[0;34m\u001b[0m\u001b[0m\n\u001b[0m\u001b[1;32m    298\u001b[0m \u001b[0;34m\u001b[0m\u001b[0m\n\u001b[1;32m    299\u001b[0m     \u001b[0;31m# wrapper() must keep the same documented signature as func(): if we\u001b[0m\u001b[0;34m\u001b[0m\u001b[0;34m\u001b[0m\u001b[0m\n",
            "\u001b[0;32m/usr/local/lib/python3.10/dist-packages/matplotlib/axis.py\u001b[0m in \u001b[0;36mset_ticklabels\u001b[0;34m(self, labels, minor, fontdict, **kwargs)\u001b[0m\n\u001b[1;32m   1960\u001b[0m                       for t in labels]\n\u001b[1;32m   1961\u001b[0m         \u001b[0;32mexcept\u001b[0m \u001b[0mTypeError\u001b[0m\u001b[0;34m:\u001b[0m\u001b[0;34m\u001b[0m\u001b[0;34m\u001b[0m\u001b[0m\n\u001b[0;32m-> 1962\u001b[0;31m             \u001b[0;32mraise\u001b[0m \u001b[0mTypeError\u001b[0m\u001b[0;34m(\u001b[0m\u001b[0;34mf\"{labels:=} must be a sequence\"\u001b[0m\u001b[0;34m)\u001b[0m \u001b[0;32mfrom\u001b[0m \u001b[0;32mNone\u001b[0m\u001b[0;34m\u001b[0m\u001b[0;34m\u001b[0m\u001b[0m\n\u001b[0m\u001b[1;32m   1963\u001b[0m         locator = (self.get_minor_locator() if minor\n\u001b[1;32m   1964\u001b[0m                    else self.get_major_locator())\n",
            "\u001b[0;31mTypeError\u001b[0m: unsupported format string passed to Sequential.__format__"
          ]
        },
        {
          "output_type": "display_data",
          "data": {
            "text/plain": [
              "<Figure size 640x480 with 2 Axes>"
            ],
            "image/png": "[encoded data removed]"
          },
          "metadata": {}
        }
      ]
    }
  ]
}