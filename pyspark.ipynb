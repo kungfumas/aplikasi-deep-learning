{
  "nbformat": 4,
  "nbformat_minor": 0,
  "metadata": {
    "colab": {
      "name": "pyspark",
      "provenance": [],
      "include_colab_link": true
    },
    "kernelspec": {
      "name": "python3",
      "display_name": "Python 3"
    },
    "language_info": {
      "name": "python"
    }
  },
  "cells": [
    {
      "cell_type": "markdown",
      "metadata": {
        "id": "view-in-github",
        "colab_type": "text"
      },
      "source": [
        "<a href=\"https://colab.research.google.com/github/kungfumas/aplikasi-deep-learning/blob/master/pyspark.ipynb\" target=\"_parent\"><img src=\"https://colab.research.google.com/assets/colab-badge.svg\" alt=\"Open In Colab\"/></a>"
      ]
    },
    {
      "cell_type": "markdown",
      "metadata": {
        "id": "sCJilX-ybl7c"
      },
      "source": [
        "# PySpark on Google Colab 101"
      ]
    },
    {
      "cell_type": "markdown",
      "metadata": {
        "id": "o8uL463oFKkv"
      },
      "source": [
        "In this article, we will see how we can run PySpark in a Google Colaboratory notebook. We will also perform some basic data exploratory tasks common to most data science problems. So, let’s get cracking!"
      ]
    },
    {
      "cell_type": "code",
      "metadata": {
        "id": "ixLSds_jw4Ff"
      },
      "source": [
        "!apt-get install openjdk-8-jdk-headless -qq > /dev/null"
      ],
      "execution_count": 20,
      "outputs": []
    },
    {
      "cell_type": "code",
      "metadata": {
        "id": "WA4ebxjl8IR3"
      },
      "source": [
        "!wget -q https://dlcdn.apache.org/spark/spark-3.2.1/spark-3.2.1-bin-hadoop3.2.tgz"
      ],
      "execution_count": 22,
      "outputs": []
    },
    {
      "cell_type": "code",
      "metadata": {
        "id": "7otLhujY8IUy"
      },
      "source": [
        "!tar xf /content/spark-3.2.1-bin-hadoop3.2.tgz.1"
      ],
      "execution_count": 23,
      "outputs": []
    },
    {
      "cell_type": "code",
      "metadata": {
        "id": "cSZL-2_T8IYH"
      },
      "source": [
        "!pip install -q findspark"
      ],
      "execution_count": 28,
      "outputs": []
    },
    {
      "cell_type": "code",
      "source": [
        "!ls -a"
      ],
      "metadata": {
        "id": "w-CigtFxYFuW",
        "outputId": "1650d923-aeb3-4836-8cda-f3d9c4f01f47",
        "colab": {
          "base_uri": "https://localhost:8080/"
        }
      },
      "execution_count": 30,
      "outputs": [
        {
          "output_type": "stream",
          "name": "stdout",
          "text": [
            ".\t .ipynb_checkpoints\t    spark-3.2.1-bin-hadoop3.2.tgz\n",
            "..\t sample_data\t\t    spark-3.2.1-bin-hadoop3.2.tgz.1\n",
            ".config  spark-3.2.1-bin-hadoop3.2\n"
          ]
        }
      ]
    },
    {
      "cell_type": "code",
      "metadata": {
        "id": "_Rvkvf2Vw6Fo"
      },
      "source": [
        "import os\n",
        "os.environ[\"JAVA_HOME\"] = \"/usr/lib/jvm/java-8-openjdk-amd64\"\n",
        "os.environ[\"SPARK_HOME\"] = \"/content/spark-3.2.1-bin-hadoop3.2\""
      ],
      "execution_count": 33,
      "outputs": []
    },
    {
      "cell_type": "code",
      "metadata": {
        "id": "alfg07gY8759"
      },
      "source": [
        "import findspark\n",
        "findspark.init()"
      ],
      "execution_count": 34,
      "outputs": []
    },
    {
      "cell_type": "code",
      "metadata": {
        "id": "0X6A0Wip73Kr"
      },
      "source": [
        "from pyspark.sql import SparkSession\n",
        "# spark = SparkSession.builder.master(\"local[*]\").getOrCreate()\n",
        "spark = SparkSession.builder\\\n",
        "        .master(\"local\")\\\n",
        "        .appName(\"Colab\")\\\n",
        "        .config('spark.ui.port', '4050')\\\n",
        "        .getOrCreate()"
      ],
      "execution_count": 35,
      "outputs": []
    },
    {
      "cell_type": "code",
      "metadata": {
        "colab": {
          "base_uri": "https://localhost:8080/",
          "height": 219
        },
        "id": "hkPDlNNO9RF-",
        "outputId": "73ec8a3b-a77e-4eb0-e753-a59f6afe1305"
      },
      "source": [
        "spark"
      ],
      "execution_count": 36,
      "outputs": [
        {
          "output_type": "execute_result",
          "data": {
            "text/plain": [
              "<pyspark.sql.session.SparkSession at 0x7f3c68496690>"
            ],
            "text/html": [
              "\n",
              "            <div>\n",
              "                <p><b>SparkSession - in-memory</b></p>\n",
              "                \n",
              "        <div>\n",
              "            <p><b>SparkContext</b></p>\n",
              "\n",
              "            <p><a href=\"http://03507ec2983f:4050\">Spark UI</a></p>\n",
              "\n",
              "            <dl>\n",
              "              <dt>Version</dt>\n",
              "                <dd><code>v3.2.1</code></dd>\n",
              "              <dt>Master</dt>\n",
              "                <dd><code>local</code></dd>\n",
              "              <dt>AppName</dt>\n",
              "                <dd><code>Colab</code></dd>\n",
              "            </dl>\n",
              "        </div>\n",
              "        \n",
              "            </div>\n",
              "        "
            ]
          },
          "metadata": {},
          "execution_count": 36
        }
      ]
    },
    {
      "cell_type": "code",
      "metadata": {
        "id": "aFlJRezL9txG",
        "colab": {
          "base_uri": "https://localhost:8080/"
        },
        "outputId": "98c9cb37-beee-4487-ceb7-9cdbda5da9db"
      },
      "source": [
        "!wget --continue https://raw.githubusercontent.com/GarvitArya/pyspark-demo/main/sample_books.json -O /tmp/sample_books.json"
      ],
      "execution_count": 37,
      "outputs": [
        {
          "output_type": "stream",
          "name": "stdout",
          "text": [
            "--2022-04-04 02:23:08--  https://raw.githubusercontent.com/GarvitArya/pyspark-demo/main/sample_books.json\n",
            "Resolving raw.githubusercontent.com (raw.githubusercontent.com)... 185.199.108.133, 185.199.109.133, 185.199.110.133, ...\n",
            "Connecting to raw.githubusercontent.com (raw.githubusercontent.com)|185.199.108.133|:443... connected.\n",
            "HTTP request sent, awaiting response... 200 OK\n",
            "Length: 1565 (1.5K) [text/plain]\n",
            "Saving to: ‘/tmp/sample_books.json’\n",
            "\n",
            "\r/tmp/sample_books.j   0%[                    ]       0  --.-KB/s               \r/tmp/sample_books.j 100%[===================>]   1.53K  --.-KB/s    in 0s      \n",
            "\n",
            "2022-04-04 02:23:08 (19.7 MB/s) - ‘/tmp/sample_books.json’ saved [1565/1565]\n",
            "\n"
          ]
        }
      ]
    },
    {
      "cell_type": "code",
      "metadata": {
        "id": "zEA-RW5Sw6aD"
      },
      "source": [
        " \n",
        "# Read JSON file into dataframe\n",
        "df = spark.read.json(\"/tmp/sample_books.json\")\n"
      ],
      "execution_count": 38,
      "outputs": []
    },
    {
      "cell_type": "code",
      "metadata": {
        "colab": {
          "base_uri": "https://localhost:8080/"
        },
        "id": "0thOUfXb96AI",
        "outputId": "19e8fc14-53ca-4131-db40-1eac7e45a4f3"
      },
      "source": [
        "df.printSchema()\n"
      ],
      "execution_count": 39,
      "outputs": [
        {
          "output_type": "stream",
          "name": "stdout",
          "text": [
            "root\n",
            " |-- author: string (nullable = true)\n",
            " |-- edition: string (nullable = true)\n",
            " |-- price: double (nullable = true)\n",
            " |-- title: string (nullable = true)\n",
            " |-- year_written: long (nullable = true)\n",
            "\n"
          ]
        }
      ]
    },
    {
      "cell_type": "code",
      "metadata": {
        "colab": {
          "base_uri": "https://localhost:8080/"
        },
        "id": "b6ZlToW096NF",
        "outputId": "5a718f9b-7f2b-4545-8010-be18cb9dab2a"
      },
      "source": [
        "df.show(20,False)"
      ],
      "execution_count": 40,
      "outputs": [
        {
          "output_type": "stream",
          "name": "stdout",
          "text": [
            "+--------------------+-----------------+-----+-----------------------------+------------+\n",
            "|author              |edition          |price|title                        |year_written|\n",
            "+--------------------+-----------------+-----+-----------------------------+------------+\n",
            "|Austen, Jane        |Penguin          |18.2 |Northanger Abbey             |1814        |\n",
            "|Tolstoy, Leo        |Penguin          |12.7 |War and Peace                |1865        |\n",
            "|Tolstoy, Leo        |Penguin          |13.5 |Anna Karenina                |1875        |\n",
            "|Woolf, Virginia     |Harcourt Brace   |25.0 |Mrs. Dalloway                |1925        |\n",
            "|Cunnningham, Michael|Harcourt Brace   |12.35|The Hours                    |1999        |\n",
            "|Twain, Mark         |Penguin          |5.76 |Huckleberry Finn             |1865        |\n",
            "|Dickens, Charles    |Random House     |5.75 |Bleak House                  |1870        |\n",
            "|Twain, Mark         |Random House     |7.75 |Tom Sawyer                   |1862        |\n",
            "|Woolf, Virginia     |Penguin          |29.0 |A Room of One's Own          |1922        |\n",
            "|Rowling, J.K.       |Harcourt Brace   |19.95|Harry Potter                 |2000        |\n",
            "|Marquez             |Harper  Perennial|14.0 |One Hundred Years of Solitude|1967        |\n",
            "|Shakespeare         |Signet  Classics |7.95 |Hamlet, Prince of Denmark    |1603        |\n",
            "|Tolkien, J.R.       |Penguin          |27.45|Lord of the Rings            |1937        |\n",
            "+--------------------+-----------------+-----+-----------------------------+------------+\n",
            "\n"
          ]
        }
      ]
    },
    {
      "cell_type": "code",
      "metadata": {
        "colab": {
          "base_uri": "https://localhost:8080/"
        },
        "id": "dk7pbSKN-chR",
        "outputId": "be9332d7-14ac-48a6-b7b1-99f6131bb404"
      },
      "source": [
        "df.count()"
      ],
      "execution_count": 41,
      "outputs": [
        {
          "output_type": "execute_result",
          "data": {
            "text/plain": [
              "13"
            ]
          },
          "metadata": {},
          "execution_count": 41
        }
      ]
    },
    {
      "cell_type": "code",
      "metadata": {
        "colab": {
          "base_uri": "https://localhost:8080/"
        },
        "id": "OeAe8N4a-ckh",
        "outputId": "35fe505e-f5c1-41dd-fa6a-dba9168436f4"
      },
      "source": [
        "df.select(\"title\", \"price\", \"year_written\").show(5)"
      ],
      "execution_count": 42,
      "outputs": [
        {
          "output_type": "stream",
          "name": "stdout",
          "text": [
            "+----------------+-----+------------+\n",
            "|           title|price|year_written|\n",
            "+----------------+-----+------------+\n",
            "|Northanger Abbey| 18.2|        1814|\n",
            "|   War and Peace| 12.7|        1865|\n",
            "|   Anna Karenina| 13.5|        1875|\n",
            "|   Mrs. Dalloway| 25.0|        1925|\n",
            "|       The Hours|12.35|        1999|\n",
            "+----------------+-----+------------+\n",
            "only showing top 5 rows\n",
            "\n"
          ]
        }
      ]
    },
    {
      "cell_type": "code",
      "metadata": {
        "id": "b4U6xkov-cnG"
      },
      "source": [
        "df_filtered = df.filter(\"year_written > 1950 AND price > 10 AND title IS NOT NULL\")"
      ],
      "execution_count": 43,
      "outputs": []
    },
    {
      "cell_type": "code",
      "metadata": {
        "colab": {
          "base_uri": "https://localhost:8080/"
        },
        "id": "plXRfFBq-cpu",
        "outputId": "6e21fc1e-ac62-4ac7-964f-b68407f9cfb9"
      },
      "source": [
        "df_filtered.select(\"title\", \"price\", \"year_written\").show(5, False)"
      ],
      "execution_count": 44,
      "outputs": [
        {
          "output_type": "stream",
          "name": "stdout",
          "text": [
            "+-----------------------------+-----+------------+\n",
            "|title                        |price|year_written|\n",
            "+-----------------------------+-----+------------+\n",
            "|The Hours                    |12.35|1999        |\n",
            "|Harry Potter                 |19.95|2000        |\n",
            "|One Hundred Years of Solitude|14.0 |1967        |\n",
            "+-----------------------------+-----+------------+\n",
            "\n"
          ]
        }
      ]
    },
    {
      "cell_type": "code",
      "metadata": {
        "colab": {
          "base_uri": "https://localhost:8080/"
        },
        "id": "GptKFTU6BMDw",
        "outputId": "12efa6e6-fa4e-40dd-d3c4-6455e16bd801"
      },
      "source": [
        "df_filtered.count()"
      ],
      "execution_count": 45,
      "outputs": [
        {
          "output_type": "execute_result",
          "data": {
            "text/plain": [
              "3"
            ]
          },
          "metadata": {},
          "execution_count": 45
        }
      ]
    },
    {
      "cell_type": "code",
      "metadata": {
        "colab": {
          "base_uri": "https://localhost:8080/"
        },
        "id": "FGy_2ERoCNWk",
        "outputId": "d06c0fe6-6ed1-4f33-ec25-e7e3c01201a6"
      },
      "source": [
        "df_filtered.show(20, False)"
      ],
      "execution_count": 46,
      "outputs": [
        {
          "output_type": "stream",
          "name": "stdout",
          "text": [
            "+--------------------+-----------------+-----+-----------------------------+------------+\n",
            "|author              |edition          |price|title                        |year_written|\n",
            "+--------------------+-----------------+-----+-----------------------------+------------+\n",
            "|Cunnningham, Michael|Harcourt Brace   |12.35|The Hours                    |1999        |\n",
            "|Rowling, J.K.       |Harcourt Brace   |19.95|Harry Potter                 |2000        |\n",
            "|Marquez             |Harper  Perennial|14.0 |One Hundred Years of Solitude|1967        |\n",
            "+--------------------+-----------------+-----+-----------------------------+------------+\n",
            "\n"
          ]
        }
      ]
    },
    {
      "cell_type": "code",
      "metadata": {
        "colab": {
          "base_uri": "https://localhost:8080/"
        },
        "id": "86qDvFyPCNZm",
        "outputId": "9089d37e-b142-49d8-8e7c-52d8814319c8"
      },
      "source": [
        "df_filtered.select(\"title\", \"year_written\").filter(\"title LIKE '%Harry Potter%'\").distinct().show(20, False)\n"
      ],
      "execution_count": 47,
      "outputs": [
        {
          "output_type": "stream",
          "name": "stdout",
          "text": [
            "+------------+------------+\n",
            "|title       |year_written|\n",
            "+------------+------------+\n",
            "|Harry Potter|2000        |\n",
            "+------------+------------+\n",
            "\n"
          ]
        }
      ]
    },
    {
      "cell_type": "code",
      "metadata": {
        "id": "JB-dU5rqE2vj",
        "outputId": "ae894631-c288-435d-d49c-9164cc8c0d21",
        "colab": {
          "base_uri": "https://localhost:8080/"
        }
      },
      "source": [
        "from pyspark.sql.functions import max\n",
        "# Find the costliest book\n",
        "\n",
        "maxValue = df_filtered.agg(max(\"price\")).collect()[0][0]\n",
        "print(\"maxValue: \",maxValue)\n",
        "df_filtered.select(\"title\",\"price\").filter(df.price == maxValue).show(20, False)"
      ],
      "execution_count": 48,
      "outputs": [
        {
          "output_type": "stream",
          "name": "stdout",
          "text": [
            "maxValue:  19.95\n",
            "+------------+-----+\n",
            "|title       |price|\n",
            "+------------+-----+\n",
            "|Harry Potter|19.95|\n",
            "+------------+-----+\n",
            "\n"
          ]
        }
      ]
    }
  ]
}