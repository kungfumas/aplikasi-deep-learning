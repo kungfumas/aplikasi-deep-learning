{
 "cells": [
  {
   "cell_type": "code",
   "execution_count": 20,
   "id": "4f7acfcd-67a8-46ee-b70c-24f1ca61024d",
   "metadata": {},
   "outputs": [
    {
     "data": {
      "text/plain": [
       "{'status': 1,\n",
       " 'message': 'Get List Mahasiswa Successfully.',\n",
       " 'data': [{'id': '1',\n",
       "   'nim': '15119999',\n",
       "   'nama': 'muhammad al fatih',\n",
       "   'jk': 'L',\n",
       "   'alamat': 'Jl. P. Puger 2 No 19',\n",
       "   'jurusan': 'Informatika'},\n",
       "  {'id': '2',\n",
       "   'nim': '16119212',\n",
       "   'nama': 'Fatimah',\n",
       "   'jk': 'P',\n",
       "   'alamat': 'Jl. Ringin Raya',\n",
       "   'jurusan': 'Sistem Informasi'},\n",
       "  {'id': '3',\n",
       "   'nim': '12314',\n",
       "   'nama': '134234',\n",
       "   'jk': 'p',\n",
       "   'alamat': 'semarang',\n",
       "   'jurusan': 'Informatika'},\n",
       "  {'id': '4',\n",
       "   'nim': '12314',\n",
       "   'nama': '134234',\n",
       "   'jk': 'p',\n",
       "   'alamat': 'semarang',\n",
       "   'jurusan': 'Informatika'},\n",
       "  {'id': '5',\n",
       "   'nim': '54252354',\n",
       "   'nama': 'gggasgagasg',\n",
       "   'jk': 'p',\n",
       "   'alamat': 'semarang',\n",
       "   'jurusan': 'Informatika'}]}"
      ]
     },
     "execution_count": 20,
     "metadata": {},
     "output_type": "execute_result"
    }
   ],
   "source": [
    "import requests\n",
    "api_url = \"http://localhost/akademik2/mahasiswa\"\n",
    "response = requests.get(api_url)\n",
    "response.json()"
   ]
  },
  {
   "cell_type": "code",
   "execution_count": 17,
   "id": "d3eeb171-39bf-417e-8f7d-d4ecefea0638",
   "metadata": {},
   "outputs": [],
   "source": []
  },
  {
   "cell_type": "code",
   "execution_count": 18,
   "id": "ac1662e4-1f04-4935-b499-a724011dd37a",
   "metadata": {},
   "outputs": [],
   "source": []
  },
  {
   "cell_type": "code",
   "execution_count": 19,
   "id": "939792e8-9aa0-4b0e-999d-a68e2aef1984",
   "metadata": {},
   "outputs": [
    {
     "data": {
      "text/plain": [
       "{'status': 1,\n",
       " 'message': 'Get List Mahasiswa Successfully.',\n",
       " 'data': [{'id': '1',\n",
       "   'nim': '15119999',\n",
       "   'nama': 'muhammad al fatih',\n",
       "   'jk': 'L',\n",
       "   'alamat': 'Jl. P. Puger 2 No 19',\n",
       "   'jurusan': 'Informatika'},\n",
       "  {'id': '2',\n",
       "   'nim': '16119212',\n",
       "   'nama': 'Fatimah',\n",
       "   'jk': 'P',\n",
       "   'alamat': 'Jl. Ringin Raya',\n",
       "   'jurusan': 'Sistem Informasi'},\n",
       "  {'id': '3',\n",
       "   'nim': '12314',\n",
       "   'nama': '134234',\n",
       "   'jk': 'p',\n",
       "   'alamat': 'semarang',\n",
       "   'jurusan': 'Informatika'},\n",
       "  {'id': '4',\n",
       "   'nim': '12314',\n",
       "   'nama': '134234',\n",
       "   'jk': 'p',\n",
       "   'alamat': 'semarang',\n",
       "   'jurusan': 'Informatika'},\n",
       "  {'id': '5',\n",
       "   'nim': '54252354',\n",
       "   'nama': 'gggasgagasg',\n",
       "   'jk': 'p',\n",
       "   'alamat': 'semarang',\n",
       "   'jurusan': 'Informatika'}]}"
      ]
     },
     "execution_count": 19,
     "metadata": {},
     "output_type": "execute_result"
    }
   ],
   "source": []
  },
  {
   "cell_type": "code",
   "execution_count": 15,
   "id": "38044a91-acda-4530-b256-b5bfda334cd3",
   "metadata": {},
   "outputs": [],
   "source": [
    "data={ \"nim\": \"542523545\",\n",
    "            \"nama\": \"gggasgagasg\",\n",
    "            \"jk\": \"p\",\n",
    "            \"alamat\": \"semarang\",\n",
    "            \"jurusan\": \"Informatika\"\n",
    "        }"
   ]
  },
  {
   "cell_type": "code",
   "execution_count": 16,
   "id": "b0032203-12c0-4364-a0e6-0e1ed1a43fdc",
   "metadata": {},
   "outputs": [
    {
     "data": {
      "text/plain": [
       "{'status': 1, 'message': 'Mahasiswa Added Successfully.'}"
      ]
     },
     "execution_count": 16,
     "metadata": {},
     "output_type": "execute_result"
    }
   ],
   "source": [
    "import requests\n",
    "api_url = \"http://localhost/akademik2/mahasiswa\"\n",
    "response = requests.post(api_url, data)\n",
    "response.json()"
   ]
  },
  {
   "cell_type": "code",
   "execution_count": null,
   "id": "54d8ea6e-3fa9-43de-bf57-a06a6f4371eb",
   "metadata": {},
   "outputs": [],
   "source": []
  }
 ],
 "metadata": {
  "kernelspec": {
   "display_name": "Python 3 (ipykernel)",
   "language": "python",
   "name": "python3"
  },
  "language_info": {
   "codemirror_mode": {
    "name": "ipython",
    "version": 3
   },
   "file_extension": ".py",
   "mimetype": "text/x-python",
   "name": "python",
   "nbconvert_exporter": "python",
   "pygments_lexer": "ipython3",
   "version": "3.10.1"
  }
 },
 "nbformat": 4,
 "nbformat_minor": 5
}
